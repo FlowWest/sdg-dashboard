{
 "cells": [
  {
   "cell_type": "code",
   "execution_count": 79,
   "metadata": {},
   "outputs": [],
   "source": [
    "from backend.dsm2_reader import read_scenario_dir\n",
    "import pandas as pd\n",
    "import altair as alt\n",
    "from data_config import gatef, elev_list, flow_list, stn_name\n"
   ]
  },
  {
   "cell_type": "code",
   "execution_count": 80,
   "metadata": {},
   "outputs": [],
   "source": [
    "stn_list = ['MID_GATEOP','GLC_GATEOP','OLD_GATEOP']"
   ]
  },
  {
   "cell_type": "code",
   "execution_count": 7,
   "metadata": {},
   "outputs": [
    {
     "name": "stdout",
     "output_type": "stream",
     "text": [
      "mathing:\t\tC:\\Users\\Inigo\\Projects\\sdg-dashboard\\data\\output\\FPV1Ma_hydro_7.dss <----> C:\\Users\\Inigo\\Projects\\sdg-dashboard\\data\\output\\FPV1Ma_SDG_7.dss\n",
      "mathing:\t\tC:\\Users\\Inigo\\Projects\\sdg-dashboard\\data\\output\\FPV2Ma_hydro_7.dss <----> C:\\Users\\Inigo\\Projects\\sdg-dashboard\\data\\output\\FPV2Ma_SDG_7.dss\n",
      "DSS file opened successfully.\n",
      "DSS file opened successfully.\n",
      "DSS file opened successfully.\n",
      "DSS file opened successfully.\n"
     ]
    }
   ],
   "source": [
    "data = read_scenario_dir(\"C:/Users/Inigo/Projects/sdg-dashboard/data\", v7_filter=\"_7\")"
   ]
  },
  {
   "cell_type": "code",
   "execution_count": 28,
   "metadata": {},
   "outputs": [
    {
     "name": "stdout",
     "output_type": "stream",
     "text": [
      "dict_keys(['C:\\\\Users\\\\Inigo\\\\Projects\\\\sdg-dashboard\\\\data\\\\output\\\\FPV1Ma_hydro_7.dss', 'C:\\\\Users\\\\Inigo\\\\Projects\\\\sdg-dashboard\\\\data\\\\output\\\\FPV2Ma_hydro_7.dss'])\n"
     ]
    }
   ],
   "source": [
    "print(data.keys())"
   ]
  },
  {
   "cell_type": "code",
   "execution_count": 112,
   "metadata": {},
   "outputs": [],
   "source": [
    "def calc_vel(flow,stage_up, bottom_elev, width):\n",
    "    #velocity is flow/cross-section\n",
    "    \n",
    "    xs = (stage_up-bottom_elev)*width\n",
    "    vel = flow/xs\n",
    "    return vel\n",
    "\n",
    "def filter_data(data, column, values):\n",
    "    \"\"\"Filter data based on a column and a list of values.\"\"\"\n",
    "    return data[data[column].isin(values)].dropna()\n",
    "\n",
    "def rename_gates(data, column, rename_map):\n",
    "    \"\"\"Rename values in a column in the DataFrame.\"\"\"\n",
    "    data[column] = data[column].replace(rename_map)\n",
    "    return data\n",
    "\n",
    "# def filter_date(data, column, start_date, end_date):\n",
    "#     return data[column][start_date:end_date]\n",
    "\n",
    "# def get_gate_up(data, column)\n",
    "\n",
    "def prepare_full_data(sdg_flow, sdg_stage, sdg_gateop, hydro_wl, gatef):\n",
    "    \"\"\"\n",
    "    Prepare gate data dictionary from input datasets.\n",
    "    \n",
    "    Parameters:\n",
    "    - sdg_flow: DataFrame with flow data.\n",
    "    - sdg_stage: DataFrame with stage data.\n",
    "    - gatop: DataFrame with gate operation data.\n",
    "    - hydro_wl: Dataframe with water level data.\n",
    "    - gatef: DataFrame containing gate configuration.\n",
    "\n",
    "    Returns:\n",
    "    - Dictionary containing gate data.\n",
    "    \"\"\"\n",
    "    full_data = {}\n",
    "    for i, gate_name in enumerate(gatef['name']):\n",
    "        flow_data = filter_data(sdg_flow, 'gate_op', [gatef[\"flow_op\"][i]])\n",
    "        gate_data = filter_data(sdg_stage, 'gate_op', [gatef['gate_status'][i]])\n",
    "        gate_data = gate_data[gate_data['unit'] == \"FEET\"]\n",
    "        gateop_data = sdg_gateop[sdg_gateop['gate_op']==gatef['station'][i]]\n",
    "        hydro_wl_data = hydro_wl[hydro_wl['gate']==gatef['station'][i]]\n",
    "        full_data[gatef[\"ID\"][i]] = {\n",
    "            'name': gatef['name'][i],\n",
    "            'bottom_elev': gatef['bottom_elev'][i],\n",
    "            'width': gatef['width'][i],\n",
    "            'flow_data': flow_data, #sc2_flow\n",
    "            'gate_data': gate_data, #sc2_gate\n",
    "            'gate_operation_data': gateop_data, #sc2_gateop\n",
    "            \"water_level_data\": hydro_wl_data #sc2_wl\n",
    "            \n",
    "        }\n",
    "    return full_data\n",
    "\n",
    "def generate_full_data(data, path, gatef, elev_list, flow_list, stn_name, stn_list):\n",
    "    sdg = data[path]['sdg']\n",
    "    hydro = data[path]['hydro']\n",
    "\n",
    "    sdg_stage = filter_data(sdg, 'gate_op', elev_list)\n",
    "    sdg_flow = filter_data(sdg, 'gate_op', flow_list)\n",
    "    sdg_gateop = filter_data(sdg, 'gate_op', stn_list)\n",
    "    gate_names = {'MID_GATEOP': 'MHO', 'GLC_GATEOP': 'DGL', 'OLD_GATEOP': 'OLD'}\n",
    "    sdg_gateop = rename_gates(sdg_gateop, \"gate_op\", gate_names)\n",
    "    \n",
    "    hydro_wl = hydro[hydro['parameter']==\"STAGE\"]\n",
    "    hydro_wl = filter_data(hydro_wl, 'gate', stn_name)\n",
    "\n",
    "    full_data = prepare_full_data(sdg_flow, sdg_stage, sdg_gateop, hydro_wl, gatef)\n",
    "    sdg_flow_GLC_FLOW_FISH = full_data['GLC']['flow_data']['value']\n",
    "    sdg_flow_GLC_GATE_UP = full_data['GLC']['gate_data']['value']\n",
    "    glc_bottom_elev = full_data['GLC']['bottom_elev']\n",
    "    glc_width = full_data['GLC']['width']\n",
    "\n",
    "    sdg_flow_MID_FLOW_FISH = full_data['MID']['flow_data']['value']\n",
    "    sdg_flow_MID_GATE_UP = full_data['MID']['gate_data']['value']\n",
    "    mid_bottom_elev = full_data['MID']['bottom_elev']\n",
    "    mid_width = full_data['MID']['width']\n",
    "    \n",
    "    sdg_flow_OLD_FLOW_FISH = full_data['OLD']['flow_data']['value']\n",
    "    sdg_flow_OLD_GATE_UP = full_data['OLD']['gate_data']['value']\n",
    "    old_bottom_elev = full_data['OLD']['bottom_elev']\n",
    "    old_width = full_data['OLD']['width']\n",
    "\n",
    "    full_data[\"GLC\"]['vel'] = calc_vel(sdg_flow_GLC_FLOW_FISH,sdg_flow_GLC_GATE_UP,glc_bottom_elev, glc_width)\n",
    "    full_data[\"MID\"]['vel'] = calc_vel(sdg_flow_MID_FLOW_FISH,sdg_flow_MID_GATE_UP,mid_bottom_elev, mid_width)\n",
    "    full_data[\"OLD\"]['vel'] = calc_vel(sdg_flow_OLD_FLOW_FISH,sdg_flow_OLD_GATE_UP,old_bottom_elev, old_width)\n",
    "\n",
    "    return full_data\n"
   ]
  },
  {
   "cell_type": "code",
   "execution_count": 113,
   "metadata": {},
   "outputs": [],
   "source": [
    "fpv1ma_hydro_full_data = generate_full_data(data, \n",
    "                 'C:\\\\Users\\\\Inigo\\\\Projects\\\\sdg-dashboard\\\\data\\\\output\\\\FPV1Ma_hydro_7.dss', \n",
    "                 gatef,\n",
    "                 elev_list,\n",
    "                 flow_list,\n",
    "                 stn_name,\n",
    "                 stn_list\n",
    "                 )\n",
    "\n",
    "fpv2ma_hydro_full_data = generate_full_data(data,\n",
    "                              'C:\\\\Users\\\\Inigo\\\\Projects\\\\sdg-dashboard\\\\data\\\\output\\\\FPV2Ma_hydro_7.dss',\n",
    "                              gatef,\n",
    "                              elev_list,\n",
    "                              flow_list,\n",
    "                              stn_name,\n",
    "                              stn_list)"
   ]
  },
  {
   "cell_type": "code",
   "execution_count": 122,
   "metadata": {},
   "outputs": [
    {
     "name": "stdout",
     "output_type": "stream",
     "text": [
      "                  datetime  value  unit gate_op scenario\n",
      "95     2016-01-01 00:00:00   -6.0  FEET     DGL   FPV2MA\n",
      "96     2016-01-01 00:15:00   -6.0  FEET     DGL   FPV2MA\n",
      "97     2016-01-01 00:30:00   -6.0  FEET     DGL   FPV2MA\n",
      "98     2016-01-01 00:45:00   -6.0  FEET     DGL   FPV2MA\n",
      "99     2016-01-01 01:00:00   -6.0  FEET     DGL   FPV2MA\n",
      "...                    ...    ...   ...     ...      ...\n",
      "280602 2023-12-31 22:45:00   -6.0  FEET     DGL   FPV2MA\n",
      "280603 2023-12-31 23:00:00   -6.0  FEET     DGL   FPV2MA\n",
      "280604 2023-12-31 23:15:00   -6.0  FEET     DGL   FPV2MA\n",
      "280605 2023-12-31 23:30:00   -6.0  FEET     DGL   FPV2MA\n",
      "280606 2023-12-31 23:45:00   -6.0  FEET     DGL   FPV2MA\n",
      "\n",
      "[280512 rows x 5 columns]\n"
     ]
    }
   ],
   "source": [
    "fpv2ma_hydro_full_data['GLC']['gate_operation_data']\n",
    "gate_up = (fpv2ma_hydro_full_data['GLC']['gate_operation_data'])\n",
    "print(gate_up)"
   ]
  },
  {
   "cell_type": "code",
   "execution_count": 91,
   "metadata": {},
   "outputs": [
    {
     "name": "stderr",
     "output_type": "stream",
     "text": [
      "C:\\Users\\Inigo\\AppData\\Local\\Temp\\ipykernel_53388\\234552756.py:8: SettingWithCopyWarning: \n",
      "A value is trying to be set on a copy of a slice from a DataFrame.\n",
      "Try using .loc[row_indexer,col_indexer] = value instead\n",
      "\n",
      "See the caveats in the documentation: https://pandas.pydata.org/pandas-docs/stable/user_guide/indexing.html#returning-a-view-versus-a-copy\n",
      "  sdg_gateop['gate_op'] = sdg_gateop['gate_op'].replace(gate_names)\n"
     ]
    },
    {
     "name": "stdout",
     "output_type": "stream",
     "text": [
      "             datetime  value  unit gate_op scenario\n",
      "0 2015-12-31 00:15:00    NaN  FEET     DGL   FPV1MA\n",
      "1 2015-12-31 00:30:00    NaN  FEET     DGL   FPV1MA\n",
      "2 2015-12-31 00:45:00    NaN  FEET     DGL   FPV1MA\n",
      "3 2015-12-31 01:00:00    NaN  FEET     DGL   FPV1MA\n",
      "4 2015-12-31 01:15:00    NaN  FEET     DGL   FPV1MA\n",
      "             datetime  value  unit gate parameter scenario\n",
      "0 2015-12-31 00:15:00    NaN  FEET  DGL     STAGE   FPV1MA\n",
      "1 2015-12-31 00:30:00    NaN  FEET  DGL     STAGE   FPV1MA\n",
      "2 2015-12-31 00:45:00    NaN  FEET  DGL     STAGE   FPV1MA\n",
      "3 2015-12-31 01:00:00    NaN  FEET  DGL     STAGE   FPV1MA\n",
      "4 2015-12-31 01:15:00    NaN  FEET  DGL     STAGE   FPV1MA\n"
     ]
    }
   ],
   "source": [
    "sdg = data['C:\\\\Users\\\\Inigo\\\\Projects\\\\sdg-dashboard\\\\data\\\\output\\\\FPV1Ma_hydro_7.dss']['sdg']\n",
    "sdg_stage = sdg[sdg['gate_op'].isin(elev_list)]\n",
    "sdg_flow = sdg[sdg['gate_op'].isin(flow_list)]\n",
    "sdg_gateop = sdg[sdg['gate_op'].isin(stn_list)]\n",
    "gate_names = {'MID_GATEOP':'MHO',\n",
    "              'GLC_GATEOP':'DGL',\n",
    "              'OLD_GATEOP':'OLD'}\n",
    "sdg_gateop['gate_op'] = sdg_gateop['gate_op'].replace(gate_names)\n",
    "print(sdg_gateop.head())\n",
    "\n",
    "hydro = data['C:\\\\Users\\\\Inigo\\\\Projects\\\\sdg-dashboard\\\\data\\\\output\\\\FPV1Ma_hydro_7.dss']['hydro']\n",
    "hydro_wl = hydro[hydro['parameter']==\"STAGE\"]\n",
    "hydro_wl = hydro_wl[hydro_wl['gate'].isin(stn_name)]\n",
    "print(hydro_wl.head())\n",
    "\n",
    "# print(wl.head())\n",
    "# print(data['C:\\\\Users\\\\Inigo\\\\Projects\\\\sdg-dashboard\\\\data\\\\output\\\\FPV1Ma_hydro_7.dss'].keys())\n",
    "# # hydro_gateop.rename(columns={'MID_GATEOP':'MHO','GLC_GATEOP':'DGL','OLD_GATEOP':'OLD'}, inplace=True) # renaming to make it easier later.\n",
    "# print(hydro_gateop['gate'].unique())\n",
    "# print(hydro_gateop[hydro_gateop['gate']==\"DGL\"])"
   ]
  },
  {
   "cell_type": "code",
   "execution_count": 5,
   "metadata": {},
   "outputs": [],
   "source": [
    "full_data = {}\n",
    "\n",
    "for i, gate_name in enumerate(gatef['name']):\n",
    "\n",
    "    flow_data = sdg_flow[sdg_flow.gate_op == gatef[\"flow_op\"][i]]\n",
    "    gate_data = sdg_stage[sdg_stage.gate_op== gatef['gate_status'][i]]\n",
    "     \n",
    "    # Drop rows with NaN values from flow_data and gate_data\n",
    "    flow_data = flow_data.dropna()\n",
    "    gate_data = gate_data.dropna()\n",
    "    \n",
    "    full_data[gatef[\"ID\"][i]] = {\n",
    "        'name': gatef['name'][i],\n",
    "        'bottom_elev': gatef['bottom_elev'][i],\n",
    "        'width': gatef['width'][i],\n",
    "        'flow_data': flow_data,\n",
    "        'gate_data': gate_data\n",
    "    }\n",
    "sdg_flow_GLC_FLOW_FISH = full_data['GLC']['flow_data']['value']\n",
    "sdg_flow_GLC_GATE_UP = full_data['GLC']['gate_data']['value']\n",
    "glc_bottom_elev = full_data['GLC']['bottom_elev']\n",
    "glc_width = full_data['GLC']['width']\n",
    "\n"
   ]
  },
  {
   "cell_type": "code",
   "execution_count": 6,
   "metadata": {},
   "outputs": [],
   "source": [
    "sdg_flow_MID_FLOW_FISH = full_data['MID']['flow_data']['value']\n",
    "sdg_flow_MID_GATE_UP = full_data['MID']['gate_data']['value']\n",
    "mid_bottom_elev = full_data['MID']['bottom_elev']\n",
    "mid_width = full_data['MID']['width']\n",
    "\n",
    "sdg_flow_OLD_FLOW_FISH = full_data['OLD']['flow_data']['value']\n",
    "sdg_flow_OLD_GATE_UP = full_data['OLD']['gate_data']['value']\n",
    "old_bottom_elev = full_data['OLD']['bottom_elev']\n",
    "old_width = full_data['OLD']['width']"
   ]
  },
  {
   "cell_type": "code",
   "execution_count": 7,
   "metadata": {},
   "outputs": [
    {
     "name": "stdout",
     "output_type": "stream",
     "text": [
      "dict_keys(['GLC', 'MID', 'OLD'])\n"
     ]
    }
   ],
   "source": [
    "thr_vel = 8\n",
    "# mask = (sdg_flow.index.month>=5) & (sdg_flow.index.month<12) # time when gate are in operation\n",
    "# vel=pd.DataFrame()\n",
    "# print(sdg_flow['scenario'].unique())\n",
    "full_data[\"GLC\"]['vel'] = calc_vel(sdg_flow_GLC_FLOW_FISH,sdg_flow_GLC_GATE_UP,glc_bottom_elev, glc_width)\n",
    "full_data[\"MID\"]['vel'] = calc_vel(sdg_flow_MID_FLOW_FISH,sdg_flow_MID_GATE_UP,mid_bottom_elev, mid_width)\n",
    "full_data[\"OLD\"]['vel'] = calc_vel(sdg_flow_OLD_FLOW_FISH,sdg_flow_OLD_GATE_UP,old_bottom_elev, old_width)\n",
    "\n",
    "# vel['MID'] = calc_vel(sdg_flow.MID_FLOW_FISH,sdg_flow.MID_GATE_UP,gatef['bottom_elev'][1], gatef['width'][1] )\n",
    "# vel['OLD'] = calc_vel(sdg_flow.OLD_FLOW_FISH,sdg_flow.OLD_GATE_UP,gatef['bottom_elev'][2], gatef['width'][2] )\n",
    "# print(full_data[\"GLC\"]['vel'].tail())\n",
    "print(full_data.keys())"
   ]
  }
 ],
 "metadata": {
  "kernelspec": {
   "display_name": ".venv",
   "language": "python",
   "name": "python3"
  },
  "language_info": {
   "codemirror_mode": {
    "name": "ipython",
    "version": 3
   },
   "file_extension": ".py",
   "mimetype": "text/x-python",
   "name": "python",
   "nbconvert_exporter": "python",
   "pygments_lexer": "ipython3",
   "version": "3.12.4"
  }
 },
 "nbformat": 4,
 "nbformat_minor": 2
}
