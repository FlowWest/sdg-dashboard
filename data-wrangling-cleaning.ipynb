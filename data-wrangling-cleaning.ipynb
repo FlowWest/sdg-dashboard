{
 "cells": [
  {
   "cell_type": "code",
   "execution_count": 36,
   "metadata": {},
   "outputs": [],
   "source": [
    "from backend.dsm2_reader import read_scenario_dir\n",
    "import pandas as pd\n",
    "import altair as alt\n"
   ]
  },
  {
   "cell_type": "code",
   "execution_count": 37,
   "metadata": {},
   "outputs": [
    {
     "name": "stdout",
     "output_type": "stream",
     "text": [
      "mathing:\t\tC:\\Users\\Inigo\\Projects\\sdg-dashboard\\data\\output\\FPV1Ma_hydro_7.dss <----> C:\\Users\\Inigo\\Projects\\sdg-dashboard\\data\\output\\FPV1Ma_SDG_7.dss\n",
      "DSS file opened successfully.\n",
      "DSS file opened successfully.\n"
     ]
    }
   ],
   "source": [
    "data = read_scenario_dir(\"C:/Users/Inigo/Projects/sdg-dashboard/data\", v7_filter=\"_7\")"
   ]
  },
  {
   "cell_type": "code",
   "execution_count": null,
   "metadata": {},
   "outputs": [
    {
     "name": "stdout",
     "output_type": "stream",
     "text": [
      "['GLC_GATE_DOWN' 'OLD_GATE_DOWN' 'GLC_GATE_UP' 'MID_GATE_UP' 'OLD_GATE_UP'\n",
      " 'MID_GATE_DOWN']\n",
      "             datetime  value unit        gate_op scenario\n",
      "0 2015-12-31 00:15:00    NaN  CFS  OLD_FLOW_GATE   FPV1MA\n",
      "1 2015-12-31 00:30:00    NaN  CFS  OLD_FLOW_GATE   FPV1MA\n",
      "2 2015-12-31 00:45:00    NaN  CFS  OLD_FLOW_GATE   FPV1MA\n",
      "3 2015-12-31 01:00:00    NaN  CFS  OLD_FLOW_GATE   FPV1MA\n",
      "4 2015-12-31 01:15:00    NaN  CFS  OLD_FLOW_GATE   FPV1MA\n"
     ]
    },
    {
     "name": "stderr",
     "output_type": "stream",
     "text": [
      "C:\\Users\\Inigo\\AppData\\Local\\Temp\\ipykernel_36968\\635767342.py:15: SettingWithCopyWarning: \n",
      "A value is trying to be set on a copy of a slice from a DataFrame\n",
      "\n",
      "See the caveats in the documentation: https://pandas.pydata.org/pandas-docs/stable/user_guide/indexing.html#returning-a-view-versus-a-copy\n",
      "  hydro_gateop.rename(columns={'MID_GATEOP':'MHO','GLC_GATEOP':'DGL','OLD_GATEOP':'OLD'}, inplace=True) # renaming to make it easier later.\n"
     ]
    }
   ],
   "source": [
    "elev_list =['MID_GATE_UP','MID_GATE_DOWN','GLC_GATE_UP','GLC_GATE_DOWN','OLD_GATE_UP','OLD_GATE_DOWN']\n",
    "flow_list = ['GLC_FLOW_FISH','MID_FLOW_FISH','MID_FLOW_GATE','OLD_FLOW_FISH','OLD_FLOW_GATE']\n",
    "stn_name = ['MHO','DGL','OLD']\n",
    "\n",
    "sdg = data['C:\\\\Users\\\\Inigo\\\\Projects\\\\sdg-dashboard\\\\data\\\\output\\\\FPV1Ma_hydro_7.dss']['sdg']\n",
    "sdg_stage = sdg[sdg['gate_op'].isin(elev_list)]\n",
    "# print(sdg_stage['gate_op'].unique())\n",
    "\n",
    "sdg_flow = sdg[sdg['gate_op'].isin(flow_list)]\n",
    "\n",
    "hydro = data['C:\\\\Users\\\\Inigo\\\\Projects\\\\sdg-dashboard\\\\data\\\\output\\\\FPV1Ma_hydro_7.dss']['hydro']\n",
    "hydro_gateop = hydro[hydro['gate'].isin(stn_name)]\n",
    "hydro_gateop.rename(columns={'MID_GATEOP':'MHO','GLC_GATEOP':'DGL','OLD_GATEOP':'OLD'}, inplace=True) # renaming to make it easier later.\n",
    "# print(hydro_gateop['gate'].unique())\n",
    "\n",
    "# print(hydro_gateop.head())\n"
   ]
  },
  {
   "cell_type": "code",
   "execution_count": 99,
   "metadata": {},
   "outputs": [],
   "source": [
    "gatef = {'name' : ['GrantLine','MiddleRiver','OldRiver'],\n",
    "         'width' : [5,5,5],\n",
    "         'C' : [0.8,0.8,0.8],\n",
    "         'bottom_elev' :[-6,-5,-7],\n",
    "         'ID': ['GLC','MID','OLD'],\n",
    "         'station' : ['DGL','MHO','OLD'],\n",
    "         \"flow_op\" : [\"GLC_FLOW_FISH\", \"MID_FLOW_FISH\", \"OLD_FLOW_FISH\"],\n",
    "         \"gate_status\" : [\"GLC_GATE_UP\", \"MID_GATE_UP\", \"OLD_GATE_UP\"]\n",
    "         }\n",
    "\n",
    "full_data = {}\n",
    "\n",
    "for i, gate_name in enumerate(gatef['name']):\n",
    "\n",
    "    flow_data = sdg_flow[sdg_flow.gate_op == gatef[\"flow_op\"][i]]\n",
    "    gate_data = sdg_stage[sdg_stage.gate_op == gatef['gate_status'][i]]\n",
    "    \n",
    "    # Drop rows with NaN values from flow_data and gate_data\n",
    "    flow_data = flow_data.dropna()\n",
    "    gate_data = gate_data.dropna()\n",
    "    \n",
    "    full_data[gatef[\"ID\"][i]] = {\n",
    "        'name': gatef['name'][i],\n",
    "        'bottom_elev': gatef['bottom_elev'][i],\n",
    "        'width': gatef['width'][i],\n",
    "        'flow_data': flow_data,\n",
    "        'gate_data': gate_data\n",
    "    }\n",
    "sdg_flow_GLC_FLOW_FISH = full_data['GLC']['flow_data']['value']\n",
    "sdg_flow_GLC_GATE_UP = full_data['GLC']['gate_data']['value']\n",
    "glc_bottom_elev = full_data['GLC']['bottom_elev']\n",
    "glc_width = full_data['GLC']['width']"
   ]
  },
  {
   "cell_type": "code",
   "execution_count": 92,
   "metadata": {},
   "outputs": [
    {
     "name": "stdout",
     "output_type": "stream",
     "text": [
      "float64\n"
     ]
    }
   ],
   "source": [
    "print(sdg_flow_GLC_FLOW_FISH.dtypes)  # To check data types\n"
   ]
  },
  {
   "cell_type": "code",
   "execution_count": 102,
   "metadata": {},
   "outputs": [
    {
     "name": "stdout",
     "output_type": "stream",
     "text": [
      "63453    13.879196\n",
      "63454     0.199047\n",
      "63454    14.140911\n",
      "63455     0.199117\n",
      "63455    14.409926\n",
      "Name: value, dtype: float64\n",
      "dict_keys(['name', 'bottom_elev', 'width', 'flow_data', 'gate_data', 'vel'])\n"
     ]
    }
   ],
   "source": [
    "\n",
    "def calc_vel(flow,stage_up, bottom_elev, width):\n",
    "    #velocity is flow/cross-section\n",
    "    \n",
    "    xs = (stage_up-bottom_elev)*width\n",
    "    vel = flow/xs\n",
    "    return vel\n",
    "\n",
    "thr_vel = 8\n",
    "# mask = (sdg_flow.index.month>=5) & (sdg_flow.index.month<12) # time when gate are in operation\n",
    "# vel=pd.DataFrame()\n",
    "# print(sdg_flow['scenario'].unique())\n",
    "full_data[\"GLC\"]['vel'] = calc_vel(sdg_flow_GLC_FLOW_FISH,sdg_flow_GLC_GATE_UP,glc_bottom_elev, glc_width)\n",
    "# vel['MID'] = calc_vel(sdg_flow.MID_FLOW_FISH,sdg_flow.MID_GATE_UP,gatef['bottom_elev'][1], gatef['width'][1] )\n",
    "# vel['OLD'] = calc_vel(sdg_flow.OLD_FLOW_FISH,sdg_flow.OLD_GATE_UP,gatef['bottom_elev'][2], gatef['width'][2] )\n",
    "print(full_data[\"GLC\"]['vel'].tail())\n",
    "print(full_data['GLC'].keys())"
   ]
  }
 ],
 "metadata": {
  "kernelspec": {
   "display_name": ".venv",
   "language": "python",
   "name": "python3"
  },
  "language_info": {
   "codemirror_mode": {
    "name": "ipython",
    "version": 3
   },
   "file_extension": ".py",
   "mimetype": "text/x-python",
   "name": "python",
   "nbconvert_exporter": "python",
   "pygments_lexer": "ipython3",
   "version": "3.12.4"
  }
 },
 "nbformat": 4,
 "nbformat_minor": 2
}
