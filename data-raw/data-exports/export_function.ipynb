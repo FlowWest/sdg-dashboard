{
 "cells": [
  {
   "cell_type": "code",
   "execution_count": 3,
   "metadata": {},
   "outputs": [],
   "source": [
    "import pandas as pd\n",
    "import numpy as np\n",
    "import hdf5plugin\n",
    "import h5py\n"
   ]
  },
  {
   "cell_type": "markdown",
   "metadata": {},
   "source": [
    "IMPORT THE DATA"
   ]
  },
  {
   "cell_type": "code",
   "execution_count": 4,
   "metadata": {},
   "outputs": [],
   "source": [
    "file = '/Users/maddeerubenson/Downloads/FPV2Mb.h5'\n",
    "hydro = h5py.File(file,'r')"
   ]
  },
  {
   "cell_type": "code",
   "execution_count": 5,
   "metadata": {},
   "outputs": [],
   "source": [
    "stage = hydro['hydro/data/channel stage']"
   ]
  },
  {
   "cell_type": "code",
   "execution_count": 6,
   "metadata": {},
   "outputs": [
    {
     "name": "stderr",
     "output_type": "stream",
     "text": [
      "/var/folders/45/p22_x33n4s1dbmnzjdjzfr_80000gn/T/ipykernel_83406/2997241107.py:7: FutureWarning: 'T' is deprecated and will be removed in a future version, please use 'min' instead.\n",
      "  time_series = pd.date_range(start=start_time, end=end_time, freq=\"5T\")\n"
     ]
    },
    {
     "data": {
      "application/vnd.microsoft.datawrangler.viewer.v0+json": {
       "columns": [
        {
         "name": "index",
         "rawType": "int64",
         "type": "integer"
        },
        {
         "name": "Datetime",
         "rawType": "datetime64[ns]",
         "type": "datetime"
        }
       ],
       "conversionMethod": "pd.DataFrame",
       "ref": "f0d100e5-5cf6-4963-b141-7fc1c225501c",
       "rows": [
        [
         "0",
         "2016-01-01 00:00:00"
        ],
        [
         "1",
         "2016-01-01 00:05:00"
        ],
        [
         "2",
         "2016-01-01 00:10:00"
        ],
        [
         "3",
         "2016-01-01 00:15:00"
        ],
        [
         "4",
         "2016-01-01 00:20:00"
        ]
       ],
       "shape": {
        "columns": 1,
        "rows": 5
       }
      },
      "text/html": [
       "<div>\n",
       "<style scoped>\n",
       "    .dataframe tbody tr th:only-of-type {\n",
       "        vertical-align: middle;\n",
       "    }\n",
       "\n",
       "    .dataframe tbody tr th {\n",
       "        vertical-align: top;\n",
       "    }\n",
       "\n",
       "    .dataframe thead th {\n",
       "        text-align: right;\n",
       "    }\n",
       "</style>\n",
       "<table border=\"1\" class=\"dataframe\">\n",
       "  <thead>\n",
       "    <tr style=\"text-align: right;\">\n",
       "      <th></th>\n",
       "      <th>Datetime</th>\n",
       "    </tr>\n",
       "  </thead>\n",
       "  <tbody>\n",
       "    <tr>\n",
       "      <th>0</th>\n",
       "      <td>2016-01-01 00:00:00</td>\n",
       "    </tr>\n",
       "    <tr>\n",
       "      <th>1</th>\n",
       "      <td>2016-01-01 00:05:00</td>\n",
       "    </tr>\n",
       "    <tr>\n",
       "      <th>2</th>\n",
       "      <td>2016-01-01 00:10:00</td>\n",
       "    </tr>\n",
       "    <tr>\n",
       "      <th>3</th>\n",
       "      <td>2016-01-01 00:15:00</td>\n",
       "    </tr>\n",
       "    <tr>\n",
       "      <th>4</th>\n",
       "      <td>2016-01-01 00:20:00</td>\n",
       "    </tr>\n",
       "  </tbody>\n",
       "</table>\n",
       "</div>"
      ],
      "text/plain": [
       "             Datetime\n",
       "0 2016-01-01 00:00:00\n",
       "1 2016-01-01 00:05:00\n",
       "2 2016-01-01 00:10:00\n",
       "3 2016-01-01 00:15:00\n",
       "4 2016-01-01 00:20:00"
      ]
     },
     "execution_count": 6,
     "metadata": {},
     "output_type": "execute_result"
    }
   ],
   "source": [
    "# this is for scenario FPV2Mb.h5\n",
    "\n",
    "start_time = \"2016-01-01 00:00:00\"\n",
    "end_time = \"2024-01-01 00:00:00\"\n",
    "\n",
    "# Generate the time series with a 5-minute interval\n",
    "time_series = pd.date_range(start=start_time, end=end_time, freq=\"5T\")\n",
    "\n",
    "# Create a DataFrame from the time series\n",
    "df_time_series = pd.DataFrame(time_series, columns=[\"Datetime\"])\n",
    "\n",
    "df_time_series.head()"
   ]
  },
  {
   "cell_type": "code",
   "execution_count": 7,
   "metadata": {},
   "outputs": [
    {
     "data": {
      "text/plain": [
       "array([  1,   2,   3,   4,   5,   6,   7,   8,   9,  10,  11,  12,  13,\n",
       "        14,  15,  16,  17,  18,  19,  20,  21,  22,  23,  24,  25,  26,\n",
       "        27,  28,  29,  30,  31,  32,  33,  34,  35,  36,  37,  38,  39,\n",
       "        40,  41,  42,  43,  44,  45,  46,  47,  48,  49,  50,  51,  52,\n",
       "        53,  54,  55,  56,  57,  58,  59,  60,  61,  62,  63,  65,  66,\n",
       "        67,  69,  70,  71,  72,  73,  74,  75,  76,  77,  78,  79,  80,\n",
       "        81,  82,  83,  84,  85,  86,  88,  89,  90,  91,  92,  94,  95,\n",
       "        96,  97, 101, 102, 104, 105, 106, 107, 108, 111, 114, 115, 116,\n",
       "       117, 118, 119, 120, 121, 122, 123, 124, 125, 126, 127, 128, 129,\n",
       "       130, 131, 132, 133, 134, 135, 136, 137, 138, 139, 140, 141, 142,\n",
       "       143, 144, 145, 146, 147, 148, 149, 150, 151, 152, 153, 154, 155,\n",
       "       156, 157, 158, 159, 160, 161, 162, 163, 164, 165, 166, 167, 168,\n",
       "       169, 170, 171, 172, 173, 174, 175, 176, 177, 178, 179, 180, 181,\n",
       "       182, 183, 184, 185, 186, 187, 188, 189, 190, 191, 192, 193, 194,\n",
       "       195, 196, 197, 198, 200, 204, 205, 206, 207, 208, 209, 210, 211,\n",
       "       212, 213, 214, 215, 216, 217, 218, 219, 220, 221, 222, 223, 224,\n",
       "       225, 226, 227, 228, 229, 230, 231, 232, 233, 234, 235, 236, 237,\n",
       "       238, 239, 240, 241, 242, 243, 244, 245, 246, 247, 248, 249, 250,\n",
       "       251, 252, 253, 254, 255, 257, 258, 259, 260, 261, 262, 263, 264,\n",
       "       265, 266, 267, 268, 269, 270, 271, 272, 273, 274, 275, 276, 277,\n",
       "       278, 279, 280, 281, 282, 283, 284, 285, 286, 287, 288, 289, 290,\n",
       "       291, 292, 293, 294, 295, 296, 297, 299, 300, 301, 307, 308, 309,\n",
       "       310, 311, 312, 313, 314, 315, 316, 317, 318, 319, 320, 321, 322,\n",
       "       323, 324, 325, 326, 327, 328, 329, 330, 331, 332, 333, 334, 335,\n",
       "       336, 337, 338, 339, 340, 341, 342, 343, 344, 345, 346, 347, 348,\n",
       "       349, 350, 351, 352, 353, 354, 355, 356, 357, 358, 359, 360, 361,\n",
       "       362, 363, 364, 365, 366, 367, 368, 369, 370, 371, 372, 373, 374,\n",
       "       375, 376, 377, 378, 379, 380, 381, 382, 383, 384, 385, 386, 387,\n",
       "       388, 389, 390, 391, 392, 393, 394, 395, 396, 397, 398, 399, 400,\n",
       "       401, 402, 403, 404, 405, 406, 407, 408, 409, 410, 411, 412, 413,\n",
       "       414, 415, 416, 417, 418, 419, 420, 421, 422, 423, 424, 426, 427,\n",
       "       428, 429, 430, 431, 432, 433, 434, 435, 436, 437, 438, 439, 440,\n",
       "       441, 442, 443, 444, 445, 447, 448, 449, 450, 451, 452, 453, 454,\n",
       "       455, 456, 457, 458, 459, 460, 461, 462, 463, 464, 465, 466, 467,\n",
       "       468, 469, 470, 471, 472, 473, 474, 475, 476, 477, 478, 479, 480,\n",
       "       481, 483, 484, 485, 486, 487, 488, 489, 490, 491, 497, 498, 499,\n",
       "       500, 501, 502, 503, 505, 506, 507, 508, 509, 511, 512, 513, 515,\n",
       "       516, 517, 522, 523, 527, 528, 529, 530, 531, 532, 537, 539, 542,\n",
       "       543, 544, 549, 550, 552, 553, 555, 556, 557, 558, 559, 560, 561,\n",
       "       570, 571, 572, 573, 574, 575, 700, 701, 702, 703, 800, 801, 803,\n",
       "       804, 805, 806, 807, 808, 809, 810, 811, 812, 813, 814, 815, 816,\n",
       "       817, 818, 819, 820, 821, 822, 823], dtype=int32)"
      ]
     },
     "execution_count": 7,
     "metadata": {},
     "output_type": "execute_result"
    }
   ],
   "source": [
    "# get all channel Ids \n",
    "\n",
    "channels = hydro['hydro/input/xsect_layer']\n",
    "channels_df = pd.DataFrame(channels[:], columns = ['chan_no', 'dist', 'elev', 'area', 'width', 'wet_perim'])\n",
    "\n",
    "all_channels = channels_df['chan_no'].unique()\n",
    "all_channels"
   ]
  },
  {
   "cell_type": "markdown",
   "metadata": {},
   "source": [
    "CREATE FUNCTION "
   ]
  },
  {
   "cell_type": "code",
   "execution_count": 12,
   "metadata": {},
   "outputs": [],
   "source": [
    "def process_and_save_stage_data(stage, df_time_series, channel_ids, output_dir):\n",
    "    \"\"\"\n",
    "    Processes stage data for each channel ID, computes daily summaries,\n",
    "    and saves the results to CSV files.\n",
    "\n",
    "    Parameters:\n",
    "    - stage: numpy array of stage data with shape [timesteps, num_channels, 2] (upstream and downstream)\n",
    "    - df_time_series: DataFrame containing the Datetime column\n",
    "    - channel_ids: Array of channel IDs corresponding to the second dimension of the stage array\n",
    "    - output_dir: Directory path where the CSV files will be saved\n",
    "    \"\"\"\n",
    "    for idx, chan_id in enumerate(channel_ids):\n",
    "        # Extract upstream and downstream data for the current channel\n",
    "        upstream = stage[:, idx, 0]\n",
    "        downstream = stage[:, idx, 1]\n",
    "        \n",
    "        # Create DataFrames for upstream and downstream\n",
    "        df_upstream = pd.DataFrame(upstream, columns=[\"upstream_stage\"])\n",
    "        df_downstream = pd.DataFrame(downstream, columns=[\"downstream_stage\"])\n",
    "        \n",
    "        # Combine with time series data\n",
    "        df = pd.concat([df_upstream, df_downstream], axis=1)\n",
    "        all_data = pd.concat([df, df_time_series], axis=1)\n",
    "        all_data['channel_id'] = chan_id\n",
    "        \n",
    "        # Compute combined stage and date\n",
    "        all_data['combined_stage'] = all_data[['upstream_stage', 'downstream_stage']].mean(axis=1)\n",
    "        all_data['Date'] = all_data['Datetime'].dt.date\n",
    "        \n",
    "        # Compute daily summaries\n",
    "        summary = (\n",
    "            all_data.groupby(['Date', 'channel_id'])\n",
    "            .agg(\n",
    "                daily_avg=('combined_stage', 'mean'),\n",
    "                daily_min=('combined_stage', 'min'),\n",
    "                daily_max=('combined_stage', 'max')\n",
    "            )\n",
    "            .reset_index()\n",
    "        )\n",
    "        \n",
    "        # Save to CSV\n",
    "        output_path = f\"{output_dir}/{chan_id}_stage_export.csv\"\n",
    "        summary.to_csv(output_path, index=False)\n",
    "        print(f\"Saved summary for channel {chan_id} to {output_path}\")\n",
    "\n"
   ]
  },
  {
   "cell_type": "markdown",
   "metadata": {},
   "source": [
    "IMPLEMENT FUNCTION "
   ]
  },
  {
   "cell_type": "code",
   "execution_count": null,
   "metadata": {},
   "outputs": [
    {
     "name": "stdout",
     "output_type": "stream",
     "text": [
      "Saved summary for channel 3 to /Users/maddeerubenson/Documents/git/SDG/sdg-dashboard/data-raw/data-exports/exports/fpv2mb//3_stage_export.csv\n"
     ]
    }
   ],
   "source": [
    "output_dir = '/Users/maddeerubenson/Documents/git/SDG/sdg-dashboard/data-raw/data-exports/exports/fpv2mb/'\n",
    "\n",
    "# Call the function\n",
    "process_and_save_stage_data(stage, df_time_series, all_channels[2:], output_dir)"
   ]
  },
  {
   "cell_type": "code",
   "execution_count": 13,
   "metadata": {},
   "outputs": [
    {
     "data": {
      "text/plain": [
       "array([1, 2], dtype=int32)"
      ]
     },
     "execution_count": 13,
     "metadata": {},
     "output_type": "execute_result"
    }
   ],
   "source": []
  }
 ],
 "metadata": {
  "kernelspec": {
   "display_name": "sdg",
   "language": "python",
   "name": "python3"
  },
  "language_info": {
   "codemirror_mode": {
    "name": "ipython",
    "version": 3
   },
   "file_extension": ".py",
   "mimetype": "text/x-python",
   "name": "python",
   "nbconvert_exporter": "python",
   "pygments_lexer": "ipython3",
   "version": "3.13.2"
  }
 },
 "nbformat": 4,
 "nbformat_minor": 2
}
