{
 "cells": [
  {
   "cell_type": "code",
   "execution_count": 5,
   "metadata": {},
   "outputs": [],
   "source": [
    "import pandas as pd\n",
    "import numpy as np\n",
    "import hdf5plugin\n",
    "import h5py\n"
   ]
  },
  {
   "cell_type": "code",
   "execution_count": 6,
   "metadata": {},
   "outputs": [],
   "source": [
    "file = '/Users/maddeerubenson/Downloads/FPV2Mb.h5'\n",
    "hydro = h5py.File(file,'r')"
   ]
  },
  {
   "cell_type": "code",
   "execution_count": 72,
   "metadata": {},
   "outputs": [],
   "source": [
    "base = '/Users/maddeerubenson/Downloads/H1Z_0.h5'\n",
    "hydro_base = h5py.File(base,'r')"
   ]
  },
  {
   "cell_type": "code",
   "execution_count": 61,
   "metadata": {},
   "outputs": [],
   "source": [
    "stage = hydro['hydro/data/channel stage']"
   ]
  },
  {
   "cell_type": "code",
   "execution_count": 73,
   "metadata": {},
   "outputs": [],
   "source": [
    "base_stage = hydro_base['hydro/data/channel stage']"
   ]
  },
  {
   "cell_type": "markdown",
   "metadata": {},
   "source": [
    ": = all \n",
    "0 = channel id \n",
    "0 = upstream; 1 = downstream (ref: geometry/channel location)\n",
    "start date/time = 2016-01-01 00-00-00\n",
    "end date/time is 2024-01-01 00:00:00\n",
    "interval = 5 minutes"
   ]
  },
  {
   "cell_type": "code",
   "execution_count": 28,
   "metadata": {},
   "outputs": [
    {
     "name": "stderr",
     "output_type": "stream",
     "text": [
      "/var/folders/45/p22_x33n4s1dbmnzjdjzfr_80000gn/T/ipykernel_52928/3872148131.py:5: FutureWarning: 'T' is deprecated and will be removed in a future version, please use 'min' instead.\n",
      "  time_series = pd.date_range(start=start_time, end=end_time, freq=\"5T\")\n"
     ]
    },
    {
     "data": {
      "application/vnd.microsoft.datawrangler.viewer.v0+json": {
       "columns": [
        {
         "name": "index",
         "rawType": "int64",
         "type": "integer"
        },
        {
         "name": "Datetime",
         "rawType": "datetime64[ns]",
         "type": "datetime"
        }
       ],
       "conversionMethod": "pd.DataFrame",
       "ref": "8d79378d-f350-43b6-bb49-3acffac1a96b",
       "rows": [
        [
         "0",
         "2016-01-01 00:00:00"
        ],
        [
         "1",
         "2016-01-01 00:05:00"
        ],
        [
         "2",
         "2016-01-01 00:10:00"
        ],
        [
         "3",
         "2016-01-01 00:15:00"
        ],
        [
         "4",
         "2016-01-01 00:20:00"
        ]
       ],
       "shape": {
        "columns": 1,
        "rows": 5
       }
      },
      "text/html": [
       "<div>\n",
       "<style scoped>\n",
       "    .dataframe tbody tr th:only-of-type {\n",
       "        vertical-align: middle;\n",
       "    }\n",
       "\n",
       "    .dataframe tbody tr th {\n",
       "        vertical-align: top;\n",
       "    }\n",
       "\n",
       "    .dataframe thead th {\n",
       "        text-align: right;\n",
       "    }\n",
       "</style>\n",
       "<table border=\"1\" class=\"dataframe\">\n",
       "  <thead>\n",
       "    <tr style=\"text-align: right;\">\n",
       "      <th></th>\n",
       "      <th>Datetime</th>\n",
       "    </tr>\n",
       "  </thead>\n",
       "  <tbody>\n",
       "    <tr>\n",
       "      <th>0</th>\n",
       "      <td>2016-01-01 00:00:00</td>\n",
       "    </tr>\n",
       "    <tr>\n",
       "      <th>1</th>\n",
       "      <td>2016-01-01 00:05:00</td>\n",
       "    </tr>\n",
       "    <tr>\n",
       "      <th>2</th>\n",
       "      <td>2016-01-01 00:10:00</td>\n",
       "    </tr>\n",
       "    <tr>\n",
       "      <th>3</th>\n",
       "      <td>2016-01-01 00:15:00</td>\n",
       "    </tr>\n",
       "    <tr>\n",
       "      <th>4</th>\n",
       "      <td>2016-01-01 00:20:00</td>\n",
       "    </tr>\n",
       "  </tbody>\n",
       "</table>\n",
       "</div>"
      ],
      "text/plain": [
       "             Datetime\n",
       "0 2016-01-01 00:00:00\n",
       "1 2016-01-01 00:05:00\n",
       "2 2016-01-01 00:10:00\n",
       "3 2016-01-01 00:15:00\n",
       "4 2016-01-01 00:20:00"
      ]
     },
     "execution_count": 28,
     "metadata": {},
     "output_type": "execute_result"
    }
   ],
   "source": [
    "start_time = \"2016-01-01 00:00:00\"\n",
    "end_time = \"2024-01-01 00:00:00\"\n",
    "\n",
    "# Generate the time series with a 5-minute interval\n",
    "time_series = pd.date_range(start=start_time, end=end_time, freq=\"5T\")\n",
    "\n",
    "# Create a DataFrame from the time series\n",
    "df_time_series = pd.DataFrame(time_series, columns=[\"Datetime\"])\n",
    "\n",
    "df_time_series.head()"
   ]
  },
  {
   "cell_type": "code",
   "execution_count": 74,
   "metadata": {},
   "outputs": [
    {
     "name": "stderr",
     "output_type": "stream",
     "text": [
      "/var/folders/45/p22_x33n4s1dbmnzjdjzfr_80000gn/T/ipykernel_52928/3094731507.py:6: FutureWarning: 'T' is deprecated and will be removed in a future version, please use 'min' instead.\n",
      "  base_time_series = pd.date_range(start=base_start_time, end=base_end_time, freq=\"5T\")\n"
     ]
    },
    {
     "data": {
      "application/vnd.microsoft.datawrangler.viewer.v0+json": {
       "columns": [
        {
         "name": "index",
         "rawType": "int64",
         "type": "integer"
        },
        {
         "name": "Datetime",
         "rawType": "datetime64[ns]",
         "type": "datetime"
        }
       ],
       "conversionMethod": "pd.DataFrame",
       "ref": "a021da88-4f5a-4124-9142-4eca2e45c9fd",
       "rows": [
        [
         "0",
         "2020-01-01 00:00:00"
        ],
        [
         "1",
         "2020-01-01 00:05:00"
        ],
        [
         "2",
         "2020-01-01 00:10:00"
        ],
        [
         "3",
         "2020-01-01 00:15:00"
        ],
        [
         "4",
         "2020-01-01 00:20:00"
        ]
       ],
       "shape": {
        "columns": 1,
        "rows": 5
       }
      },
      "text/html": [
       "<div>\n",
       "<style scoped>\n",
       "    .dataframe tbody tr th:only-of-type {\n",
       "        vertical-align: middle;\n",
       "    }\n",
       "\n",
       "    .dataframe tbody tr th {\n",
       "        vertical-align: top;\n",
       "    }\n",
       "\n",
       "    .dataframe thead th {\n",
       "        text-align: right;\n",
       "    }\n",
       "</style>\n",
       "<table border=\"1\" class=\"dataframe\">\n",
       "  <thead>\n",
       "    <tr style=\"text-align: right;\">\n",
       "      <th></th>\n",
       "      <th>Datetime</th>\n",
       "    </tr>\n",
       "  </thead>\n",
       "  <tbody>\n",
       "    <tr>\n",
       "      <th>0</th>\n",
       "      <td>2020-01-01 00:00:00</td>\n",
       "    </tr>\n",
       "    <tr>\n",
       "      <th>1</th>\n",
       "      <td>2020-01-01 00:05:00</td>\n",
       "    </tr>\n",
       "    <tr>\n",
       "      <th>2</th>\n",
       "      <td>2020-01-01 00:10:00</td>\n",
       "    </tr>\n",
       "    <tr>\n",
       "      <th>3</th>\n",
       "      <td>2020-01-01 00:15:00</td>\n",
       "    </tr>\n",
       "    <tr>\n",
       "      <th>4</th>\n",
       "      <td>2020-01-01 00:20:00</td>\n",
       "    </tr>\n",
       "  </tbody>\n",
       "</table>\n",
       "</div>"
      ],
      "text/plain": [
       "             Datetime\n",
       "0 2020-01-01 00:00:00\n",
       "1 2020-01-01 00:05:00\n",
       "2 2020-01-01 00:10:00\n",
       "3 2020-01-01 00:15:00\n",
       "4 2020-01-01 00:20:00"
      ]
     },
     "execution_count": 74,
     "metadata": {},
     "output_type": "execute_result"
    }
   ],
   "source": [
    "# for baseline\n",
    "base_start_time = \"2020-01-01 00:00:00\"\n",
    "base_end_time = \"2024-05-14 23:45:00\"\n",
    "\n",
    "# Generate the time series with a 5-minute interval\n",
    "base_time_series = pd.date_range(start=base_start_time, end=base_end_time, freq=\"5T\")\n",
    "\n",
    "# Create a DataFrame from the time series\n",
    "base_time_series = pd.DataFrame(base_time_series, columns=[\"Datetime\"])\n",
    "\n",
    "base_time_series.head()"
   ]
  },
  {
   "cell_type": "code",
   "execution_count": 8,
   "metadata": {},
   "outputs": [],
   "source": [
    "all_stage = stage[:,0,0]"
   ]
  },
  {
   "cell_type": "code",
   "execution_count": 22,
   "metadata": {},
   "outputs": [
    {
     "data": {
      "text/plain": [
       "<HDF5 dataset \"channel stage\": shape (841537, 540, 2), type \"<f4\">"
      ]
     },
     "execution_count": 22,
     "metadata": {},
     "output_type": "execute_result"
    }
   ],
   "source": [
    "stage"
   ]
  },
  {
   "cell_type": "code",
   "execution_count": 53,
   "metadata": {},
   "outputs": [],
   "source": [
    "#OLD; channel id = 71\n",
    "old_upstream = stage[:, 71, 0]\n",
    "old_downstream = stage[:, 71, 1]\n",
    "\n"
   ]
  },
  {
   "cell_type": "code",
   "execution_count": 62,
   "metadata": {},
   "outputs": [],
   "source": [
    "#DGL; channel id = 205; upnode = 56; downode = 171\n",
    "dgl_upstream = stage[:, 205, 0]\n",
    "dgl_downstream = stage[:, 205, 1]"
   ]
  },
  {
   "cell_type": "code",
   "execution_count": 66,
   "metadata": {},
   "outputs": [],
   "source": [
    "# MHO id = 128\n",
    "mho_upstream = stage[:, 128, 0]\n",
    "mho_downstream = stage[:, 128, 1]"
   ]
  },
  {
   "cell_type": "code",
   "execution_count": 77,
   "metadata": {},
   "outputs": [],
   "source": [
    "#baseline\n",
    "base_old_upstream = base_stage[:, 71, 0]\n",
    "base_old_downstream = base_stage[:, 71, 1]\n",
    "\n",
    "base_dgl_upstream = base_stage[:, 205, 0]\n",
    "base_dgl_downstream = base_stage[:, 205, 1]\n",
    "\n",
    "base_mho_upstream = base_stage[:, 128, 0]\n",
    "base_mho_downstream = base_stage[:, 128, 1]\n"
   ]
  },
  {
   "cell_type": "code",
   "execution_count": 56,
   "metadata": {},
   "outputs": [
    {
     "data": {
      "application/vnd.microsoft.datawrangler.viewer.v0+json": {
       "columns": [
        {
         "name": "index",
         "rawType": "int64",
         "type": "integer"
        },
        {
         "name": "upstream_stage",
         "rawType": "float32",
         "type": "float"
        },
        {
         "name": "downstream_stage",
         "rawType": "float32",
         "type": "float"
        }
       ],
       "conversionMethod": "pd.DataFrame",
       "ref": "ecd13b95-072d-49d4-8b3d-c9540144a371",
       "rows": [
        [
         "0",
         "10.432",
         "15.008"
        ],
        [
         "1",
         "10.432203",
         "15.007815"
        ],
        [
         "2",
         "10.4354925",
         "15.008294"
        ],
        [
         "3",
         "10.449473",
         "15.0123005"
        ],
        [
         "4",
         "10.47636",
         "15.022776"
        ],
        [
         "5",
         "10.497969",
         "15.029553"
        ],
        [
         "6",
         "10.48468",
         "15.002268"
        ],
        [
         "7",
         "10.422828",
         "14.916033"
        ],
        [
         "8",
         "10.321409",
         "14.785182"
        ],
        [
         "9",
         "10.198182",
         "14.653248"
        ],
        [
         "10",
         "10.077577",
         "14.556692"
        ],
        [
         "11",
         "9.988426",
         "14.505478"
        ],
        [
         "12",
         "9.940268",
         "14.481824"
        ],
        [
         "13",
         "9.913244",
         "14.46413"
        ],
        [
         "14",
         "9.887868",
         "14.454948"
        ],
        [
         "15",
         "9.868348",
         "14.454171"
        ],
        [
         "16",
         "9.859896",
         "14.441814"
        ],
        [
         "17",
         "9.847738",
         "14.406506"
        ],
        [
         "18",
         "9.818559",
         "14.358257"
        ],
        [
         "19",
         "9.778676",
         "14.314234"
        ],
        [
         "20",
         "9.741412",
         "14.281231"
        ],
        [
         "21",
         "9.713585",
         "14.262694"
        ],
        [
         "22",
         "9.696742",
         "14.260464"
        ],
        [
         "23",
         "9.691568",
         "14.270648"
        ],
        [
         "24",
         "9.695932",
         "14.283099"
        ],
        [
         "25",
         "9.704063",
         "14.291545"
        ],
        [
         "26",
         "9.71135",
         "14.295719"
        ],
        [
         "27",
         "9.716995",
         "14.296747"
        ],
        [
         "28",
         "9.721504",
         "14.295994"
        ],
        [
         "29",
         "9.724949",
         "14.295071"
        ],
        [
         "30",
         "9.727537",
         "14.295244"
        ],
        [
         "31",
         "9.729758",
         "14.297868"
        ],
        [
         "32",
         "9.732728",
         "14.303869"
        ],
        [
         "33",
         "9.737829",
         "14.313209"
        ],
        [
         "34",
         "9.745638",
         "14.324913"
        ],
        [
         "35",
         "9.755708",
         "14.337545"
        ],
        [
         "36",
         "9.767043",
         "14.3496065"
        ],
        [
         "37",
         "9.778522",
         "14.360135"
        ],
        [
         "38",
         "9.789294",
         "14.368952"
        ],
        [
         "39",
         "9.798993",
         "14.376338"
        ],
        [
         "40",
         "9.807526",
         "14.38264"
        ],
        [
         "41",
         "9.814814",
         "14.388127"
        ],
        [
         "42",
         "9.820795",
         "14.392934"
        ],
        [
         "43",
         "9.825462",
         "14.396998"
        ],
        [
         "44",
         "9.828837",
         "14.400198"
        ],
        [
         "45",
         "9.831081",
         "14.4029045"
        ],
        [
         "46",
         "9.832996",
         "14.406943"
        ],
        [
         "47",
         "9.836549",
         "14.415062"
        ],
        [
         "48",
         "9.843784",
         "14.426478"
        ],
        [
         "49",
         "9.85306",
         "14.432792"
        ]
       ],
       "shape": {
        "columns": 2,
        "rows": 841537
       }
      },
      "text/html": [
       "<div>\n",
       "<style scoped>\n",
       "    .dataframe tbody tr th:only-of-type {\n",
       "        vertical-align: middle;\n",
       "    }\n",
       "\n",
       "    .dataframe tbody tr th {\n",
       "        vertical-align: top;\n",
       "    }\n",
       "\n",
       "    .dataframe thead th {\n",
       "        text-align: right;\n",
       "    }\n",
       "</style>\n",
       "<table border=\"1\" class=\"dataframe\">\n",
       "  <thead>\n",
       "    <tr style=\"text-align: right;\">\n",
       "      <th></th>\n",
       "      <th>upstream_stage</th>\n",
       "      <th>downstream_stage</th>\n",
       "    </tr>\n",
       "  </thead>\n",
       "  <tbody>\n",
       "    <tr>\n",
       "      <th>0</th>\n",
       "      <td>10.432000</td>\n",
       "      <td>15.008000</td>\n",
       "    </tr>\n",
       "    <tr>\n",
       "      <th>1</th>\n",
       "      <td>10.432203</td>\n",
       "      <td>15.007815</td>\n",
       "    </tr>\n",
       "    <tr>\n",
       "      <th>2</th>\n",
       "      <td>10.435493</td>\n",
       "      <td>15.008294</td>\n",
       "    </tr>\n",
       "    <tr>\n",
       "      <th>3</th>\n",
       "      <td>10.449473</td>\n",
       "      <td>15.012300</td>\n",
       "    </tr>\n",
       "    <tr>\n",
       "      <th>4</th>\n",
       "      <td>10.476360</td>\n",
       "      <td>15.022776</td>\n",
       "    </tr>\n",
       "    <tr>\n",
       "      <th>...</th>\n",
       "      <td>...</td>\n",
       "      <td>...</td>\n",
       "    </tr>\n",
       "    <tr>\n",
       "      <th>841532</th>\n",
       "      <td>10.235268</td>\n",
       "      <td>14.767039</td>\n",
       "    </tr>\n",
       "    <tr>\n",
       "      <th>841533</th>\n",
       "      <td>10.187270</td>\n",
       "      <td>14.715638</td>\n",
       "    </tr>\n",
       "    <tr>\n",
       "      <th>841534</th>\n",
       "      <td>10.136885</td>\n",
       "      <td>14.660568</td>\n",
       "    </tr>\n",
       "    <tr>\n",
       "      <th>841535</th>\n",
       "      <td>10.083745</td>\n",
       "      <td>14.604394</td>\n",
       "    </tr>\n",
       "    <tr>\n",
       "      <th>841536</th>\n",
       "      <td>10.029849</td>\n",
       "      <td>14.551425</td>\n",
       "    </tr>\n",
       "  </tbody>\n",
       "</table>\n",
       "<p>841537 rows × 2 columns</p>\n",
       "</div>"
      ],
      "text/plain": [
       "        upstream_stage  downstream_stage\n",
       "0            10.432000         15.008000\n",
       "1            10.432203         15.007815\n",
       "2            10.435493         15.008294\n",
       "3            10.449473         15.012300\n",
       "4            10.476360         15.022776\n",
       "...                ...               ...\n",
       "841532       10.235268         14.767039\n",
       "841533       10.187270         14.715638\n",
       "841534       10.136885         14.660568\n",
       "841535       10.083745         14.604394\n",
       "841536       10.029849         14.551425\n",
       "\n",
       "[841537 rows x 2 columns]"
      ]
     },
     "execution_count": 56,
     "metadata": {},
     "output_type": "execute_result"
    }
   ],
   "source": [
    "df_old_upstream = pd.DataFrame(old_upstream, columns=[\"upstream_stage\"])\n",
    "df_old_downstream = pd.DataFrame(old_downstream, columns=[\"downstream_stage\"])\n",
    "\n",
    "df = pd.concat([df_old_upstream, df_old_downstream], axis = 1)\n",
    "df\n"
   ]
  },
  {
   "cell_type": "code",
   "execution_count": 63,
   "metadata": {},
   "outputs": [
    {
     "data": {
      "application/vnd.microsoft.datawrangler.viewer.v0+json": {
       "columns": [
        {
         "name": "index",
         "rawType": "int64",
         "type": "integer"
        },
        {
         "name": "upstream_stage",
         "rawType": "float32",
         "type": "float"
        },
        {
         "name": "downstream_stage",
         "rawType": "float32",
         "type": "float"
        }
       ],
       "conversionMethod": "pd.DataFrame",
       "ref": "4e1382ea-fc9a-4266-81ca-f271c7b02e80",
       "rows": [
        [
         "0",
         "11.7",
         "11.703"
        ],
        [
         "1",
         "11.691543",
         "11.698506"
        ],
        [
         "2",
         "11.614029",
         "11.651988"
        ],
        [
         "3",
         "11.347808",
         "11.463165"
        ],
        [
         "4",
         "11.024039",
         "11.124381"
        ],
        [
         "5",
         "10.990721",
         "10.942474"
        ],
        [
         "6",
         "11.134331",
         "11.118504"
        ],
        [
         "7",
         "11.248667",
         "11.29661"
        ],
        [
         "8",
         "11.233132",
         "11.265678"
        ],
        [
         "9",
         "11.151403",
         "11.163157"
        ],
        [
         "10",
         "11.105863",
         "11.108413"
        ],
        [
         "11",
         "11.09177",
         "11.110447"
        ],
        [
         "12",
         "11.107462",
         "11.134304"
        ],
        [
         "13",
         "11.142314",
         "11.164887"
        ],
        [
         "14",
         "11.174693",
         "11.194455"
        ],
        [
         "15",
         "11.179316",
         "11.199529"
        ],
        [
         "16",
         "11.156338",
         "11.180628"
        ],
        [
         "17",
         "11.14765",
         "11.166648"
        ],
        [
         "18",
         "11.15553",
         "11.178198"
        ],
        [
         "19",
         "11.168734",
         "11.19169"
        ],
        [
         "20",
         "11.180111",
         "11.194337"
        ],
        [
         "21",
         "11.182005",
         "11.196886"
        ],
        [
         "22",
         "11.180058",
         "11.198077"
        ],
        [
         "23",
         "11.179453",
         "11.199291"
        ],
        [
         "24",
         "11.183289",
         "11.205143"
        ],
        [
         "25",
         "11.19166",
         "11.213355"
        ],
        [
         "26",
         "11.200692",
         "11.221688"
        ],
        [
         "27",
         "11.208019",
         "11.228987"
        ],
        [
         "28",
         "11.213527",
         "11.234881"
        ],
        [
         "29",
         "11.218819",
         "11.239886"
        ],
        [
         "30",
         "11.224604",
         "11.244659"
        ],
        [
         "31",
         "11.229997",
         "11.249311"
        ],
        [
         "32",
         "11.23421",
         "11.253271"
        ],
        [
         "33",
         "11.23708",
         "11.256314"
        ],
        [
         "34",
         "11.239082",
         "11.258616"
        ],
        [
         "35",
         "11.240683",
         "11.260263"
        ],
        [
         "36",
         "11.241678",
         "11.260829"
        ],
        [
         "37",
         "11.241071",
         "11.259233"
        ],
        [
         "38",
         "11.237238",
         "11.253902"
        ],
        [
         "39",
         "11.2282715",
         "11.242945"
        ],
        [
         "40",
         "11.212245",
         "11.224464"
        ],
        [
         "41",
         "11.1878195",
         "11.197005"
        ],
        [
         "42",
         "11.158088",
         "11.161744"
        ],
        [
         "43",
         "11.135161",
         "11.127599"
        ],
        [
         "44",
         "11.113635",
         "11.101638"
        ],
        [
         "45",
         "11.061551",
         "11.060284"
        ],
        [
         "46",
         "10.981133",
         "10.977955"
        ],
        [
         "47",
         "10.896274",
         "10.883125"
        ],
        [
         "48",
         "10.817249",
         "10.806412"
        ],
        [
         "49",
         "10.747987",
         "10.739741"
        ]
       ],
       "shape": {
        "columns": 2,
        "rows": 841537
       }
      },
      "text/html": [
       "<div>\n",
       "<style scoped>\n",
       "    .dataframe tbody tr th:only-of-type {\n",
       "        vertical-align: middle;\n",
       "    }\n",
       "\n",
       "    .dataframe tbody tr th {\n",
       "        vertical-align: top;\n",
       "    }\n",
       "\n",
       "    .dataframe thead th {\n",
       "        text-align: right;\n",
       "    }\n",
       "</style>\n",
       "<table border=\"1\" class=\"dataframe\">\n",
       "  <thead>\n",
       "    <tr style=\"text-align: right;\">\n",
       "      <th></th>\n",
       "      <th>upstream_stage</th>\n",
       "      <th>downstream_stage</th>\n",
       "    </tr>\n",
       "  </thead>\n",
       "  <tbody>\n",
       "    <tr>\n",
       "      <th>0</th>\n",
       "      <td>11.700000</td>\n",
       "      <td>11.703000</td>\n",
       "    </tr>\n",
       "    <tr>\n",
       "      <th>1</th>\n",
       "      <td>11.691543</td>\n",
       "      <td>11.698506</td>\n",
       "    </tr>\n",
       "    <tr>\n",
       "      <th>2</th>\n",
       "      <td>11.614029</td>\n",
       "      <td>11.651988</td>\n",
       "    </tr>\n",
       "    <tr>\n",
       "      <th>3</th>\n",
       "      <td>11.347808</td>\n",
       "      <td>11.463165</td>\n",
       "    </tr>\n",
       "    <tr>\n",
       "      <th>4</th>\n",
       "      <td>11.024039</td>\n",
       "      <td>11.124381</td>\n",
       "    </tr>\n",
       "    <tr>\n",
       "      <th>...</th>\n",
       "      <td>...</td>\n",
       "      <td>...</td>\n",
       "    </tr>\n",
       "    <tr>\n",
       "      <th>841532</th>\n",
       "      <td>10.949558</td>\n",
       "      <td>10.952247</td>\n",
       "    </tr>\n",
       "    <tr>\n",
       "      <th>841533</th>\n",
       "      <td>10.906884</td>\n",
       "      <td>10.915722</td>\n",
       "    </tr>\n",
       "    <tr>\n",
       "      <th>841534</th>\n",
       "      <td>10.855926</td>\n",
       "      <td>10.855654</td>\n",
       "    </tr>\n",
       "    <tr>\n",
       "      <th>841535</th>\n",
       "      <td>10.797088</td>\n",
       "      <td>10.798704</td>\n",
       "    </tr>\n",
       "    <tr>\n",
       "      <th>841536</th>\n",
       "      <td>10.739311</td>\n",
       "      <td>10.742247</td>\n",
       "    </tr>\n",
       "  </tbody>\n",
       "</table>\n",
       "<p>841537 rows × 2 columns</p>\n",
       "</div>"
      ],
      "text/plain": [
       "        upstream_stage  downstream_stage\n",
       "0            11.700000         11.703000\n",
       "1            11.691543         11.698506\n",
       "2            11.614029         11.651988\n",
       "3            11.347808         11.463165\n",
       "4            11.024039         11.124381\n",
       "...                ...               ...\n",
       "841532       10.949558         10.952247\n",
       "841533       10.906884         10.915722\n",
       "841534       10.855926         10.855654\n",
       "841535       10.797088         10.798704\n",
       "841536       10.739311         10.742247\n",
       "\n",
       "[841537 rows x 2 columns]"
      ]
     },
     "execution_count": 63,
     "metadata": {},
     "output_type": "execute_result"
    }
   ],
   "source": [
    "df_dgl_upstream = pd.DataFrame(dgl_upstream, columns=[\"upstream_stage\"])\n",
    "df_dgl_downstream = pd.DataFrame(dgl_downstream, columns=[\"downstream_stage\"])\n",
    "\n",
    "dgl_df = pd.concat([df_dgl_upstream, df_dgl_downstream], axis = 1)\n",
    "dgl_df"
   ]
  },
  {
   "cell_type": "code",
   "execution_count": 67,
   "metadata": {},
   "outputs": [
    {
     "data": {
      "application/vnd.microsoft.datawrangler.viewer.v0+json": {
       "columns": [
        {
         "name": "index",
         "rawType": "int64",
         "type": "integer"
        },
        {
         "name": "upstream_stage",
         "rawType": "float32",
         "type": "float"
        },
        {
         "name": "downstream_stage",
         "rawType": "float32",
         "type": "float"
        }
       ],
       "conversionMethod": "pd.DataFrame",
       "ref": "e43f7aba-67a6-4bc6-a554-4e4c04501c59",
       "rows": [
        [
         "0",
         "19.907",
         "25.16381"
        ],
        [
         "1",
         "19.906578",
         "25.163576"
        ],
        [
         "2",
         "19.906279",
         "25.163193"
        ],
        [
         "3",
         "19.905836",
         "25.162859"
        ],
        [
         "4",
         "19.90514",
         "25.162233"
        ],
        [
         "5",
         "19.903898",
         "25.161283"
        ],
        [
         "6",
         "19.899641",
         "25.158745"
        ],
        [
         "7",
         "19.886362",
         "25.150036"
        ],
        [
         "8",
         "19.855711",
         "25.12727"
        ],
        [
         "9",
         "19.803036",
         "25.083529"
        ],
        [
         "10",
         "19.735998",
         "25.021599"
        ],
        [
         "11",
         "19.675009",
         "24.959051"
        ],
        [
         "12",
         "19.639685",
         "24.918898"
        ],
        [
         "13",
         "19.634178",
         "24.910778"
        ],
        [
         "14",
         "19.64825",
         "24.924372"
        ],
        [
         "15",
         "19.668158",
         "24.943321"
        ],
        [
         "16",
         "19.684519",
         "24.9594"
        ],
        [
         "17",
         "19.697218",
         "24.972355"
        ],
        [
         "18",
         "19.711048",
         "24.984863"
        ],
        [
         "19",
         "19.725683",
         "24.99815"
        ],
        [
         "20",
         "19.736998",
         "25.009281"
        ],
        [
         "21",
         "19.743086",
         "25.01484"
        ],
        [
         "22",
         "19.744226",
         "25.014961"
        ],
        [
         "23",
         "19.741884",
         "25.012133"
        ],
        [
         "24",
         "19.738085",
         "25.009031"
        ],
        [
         "25",
         "19.734598",
         "25.00727"
        ],
        [
         "26",
         "19.732864",
         "25.006948"
        ],
        [
         "27",
         "19.733625",
         "25.007425"
        ],
        [
         "28",
         "19.736",
         "25.007849"
        ],
        [
         "29",
         "19.73773",
         "25.006683"
        ],
        [
         "30",
         "19.73599",
         "25.00136"
        ],
        [
         "31",
         "19.727436",
         "24.988554"
        ],
        [
         "32",
         "19.708881",
         "24.964943"
        ],
        [
         "33",
         "19.678339",
         "24.92844"
        ],
        [
         "34",
         "19.63502",
         "24.878773"
        ],
        [
         "35",
         "19.579071",
         "24.816887"
        ],
        [
         "36",
         "19.511677",
         "24.744648"
        ],
        [
         "37",
         "19.435198",
         "24.66509"
        ],
        [
         "38",
         "19.352839",
         "24.582054"
        ],
        [
         "39",
         "19.268541",
         "24.499367"
        ],
        [
         "40",
         "19.186865",
         "24.420038"
        ],
        [
         "41",
         "19.111198",
         "24.3462"
        ],
        [
         "42",
         "19.042547",
         "24.27912"
        ],
        [
         "43",
         "18.980427",
         "24.218367"
        ],
        [
         "44",
         "18.923346",
         "24.162197"
        ],
        [
         "45",
         "18.869135",
         "24.108805"
        ],
        [
         "46",
         "18.81611",
         "24.056808"
        ],
        [
         "47",
         "18.763626",
         "24.005459"
        ],
        [
         "48",
         "18.712246",
         "23.954874"
        ],
        [
         "49",
         "18.663307",
         "23.906033"
        ]
       ],
       "shape": {
        "columns": 2,
        "rows": 841537
       }
      },
      "text/html": [
       "<div>\n",
       "<style scoped>\n",
       "    .dataframe tbody tr th:only-of-type {\n",
       "        vertical-align: middle;\n",
       "    }\n",
       "\n",
       "    .dataframe tbody tr th {\n",
       "        vertical-align: top;\n",
       "    }\n",
       "\n",
       "    .dataframe thead th {\n",
       "        text-align: right;\n",
       "    }\n",
       "</style>\n",
       "<table border=\"1\" class=\"dataframe\">\n",
       "  <thead>\n",
       "    <tr style=\"text-align: right;\">\n",
       "      <th></th>\n",
       "      <th>upstream_stage</th>\n",
       "      <th>downstream_stage</th>\n",
       "    </tr>\n",
       "  </thead>\n",
       "  <tbody>\n",
       "    <tr>\n",
       "      <th>0</th>\n",
       "      <td>19.907000</td>\n",
       "      <td>25.163811</td>\n",
       "    </tr>\n",
       "    <tr>\n",
       "      <th>1</th>\n",
       "      <td>19.906578</td>\n",
       "      <td>25.163576</td>\n",
       "    </tr>\n",
       "    <tr>\n",
       "      <th>2</th>\n",
       "      <td>19.906279</td>\n",
       "      <td>25.163193</td>\n",
       "    </tr>\n",
       "    <tr>\n",
       "      <th>3</th>\n",
       "      <td>19.905836</td>\n",
       "      <td>25.162859</td>\n",
       "    </tr>\n",
       "    <tr>\n",
       "      <th>4</th>\n",
       "      <td>19.905140</td>\n",
       "      <td>25.162233</td>\n",
       "    </tr>\n",
       "    <tr>\n",
       "      <th>...</th>\n",
       "      <td>...</td>\n",
       "      <td>...</td>\n",
       "    </tr>\n",
       "    <tr>\n",
       "      <th>841532</th>\n",
       "      <td>18.981323</td>\n",
       "      <td>24.222729</td>\n",
       "    </tr>\n",
       "    <tr>\n",
       "      <th>841533</th>\n",
       "      <td>18.934793</td>\n",
       "      <td>24.176683</td>\n",
       "    </tr>\n",
       "    <tr>\n",
       "      <th>841534</th>\n",
       "      <td>18.886534</td>\n",
       "      <td>24.129374</td>\n",
       "    </tr>\n",
       "    <tr>\n",
       "      <th>841535</th>\n",
       "      <td>18.835636</td>\n",
       "      <td>24.079800</td>\n",
       "    </tr>\n",
       "    <tr>\n",
       "      <th>841536</th>\n",
       "      <td>18.782423</td>\n",
       "      <td>24.027653</td>\n",
       "    </tr>\n",
       "  </tbody>\n",
       "</table>\n",
       "<p>841537 rows × 2 columns</p>\n",
       "</div>"
      ],
      "text/plain": [
       "        upstream_stage  downstream_stage\n",
       "0            19.907000         25.163811\n",
       "1            19.906578         25.163576\n",
       "2            19.906279         25.163193\n",
       "3            19.905836         25.162859\n",
       "4            19.905140         25.162233\n",
       "...                ...               ...\n",
       "841532       18.981323         24.222729\n",
       "841533       18.934793         24.176683\n",
       "841534       18.886534         24.129374\n",
       "841535       18.835636         24.079800\n",
       "841536       18.782423         24.027653\n",
       "\n",
       "[841537 rows x 2 columns]"
      ]
     },
     "execution_count": 67,
     "metadata": {},
     "output_type": "execute_result"
    }
   ],
   "source": [
    "df_mho_upstream = pd.DataFrame(mho_upstream, columns=[\"upstream_stage\"])\n",
    "df_mho_downstream = pd.DataFrame(mho_downstream, columns=[\"downstream_stage\"])\n",
    "\n",
    "mho_df = pd.concat([df_mho_upstream, df_mho_downstream], axis = 1)\n",
    "mho_df"
   ]
  },
  {
   "cell_type": "code",
   "execution_count": 78,
   "metadata": {},
   "outputs": [],
   "source": [
    "#baseline\n",
    "base_df_mho_upstream = pd.DataFrame(base_mho_upstream, columns=[\"upstream_stage\"])\n",
    "base_df_mho_downstream = pd.DataFrame(base_mho_downstream, columns=[\"downstream_stage\"])\n",
    "base_mho_df = pd.concat([base_df_mho_upstream, base_df_mho_downstream], axis = 1)\n",
    "\n",
    "base_df_old_upstream = pd.DataFrame(base_old_upstream, columns=[\"upstream_stage\"])\n",
    "base_df_old_downstream = pd.DataFrame(base_old_downstream, columns=[\"downstream_stage\"])\n",
    "base_old_df = pd.concat([base_df_old_upstream, base_df_old_downstream], axis = 1)\n",
    "\n",
    "base_df_dgl_upstream = pd.DataFrame(base_dgl_upstream, columns=[\"upstream_stage\"])\n",
    "base_df_dgl_downstream = pd.DataFrame(base_dgl_downstream, columns=[\"downstream_stage\"])\n",
    "base_dgl_df = pd.concat([base_df_dgl_upstream, base_df_dgl_downstream], axis = 1)\n"
   ]
  },
  {
   "cell_type": "code",
   "execution_count": 57,
   "metadata": {},
   "outputs": [
    {
     "data": {
      "application/vnd.microsoft.datawrangler.viewer.v0+json": {
       "columns": [
        {
         "name": "index",
         "rawType": "int64",
         "type": "integer"
        },
        {
         "name": "upstream_stage",
         "rawType": "float32",
         "type": "float"
        },
        {
         "name": "downstream_stage",
         "rawType": "float32",
         "type": "float"
        },
        {
         "name": "Datetime",
         "rawType": "datetime64[ns]",
         "type": "datetime"
        },
        {
         "name": "channel_id",
         "rawType": "int64",
         "type": "integer"
        },
        {
         "name": "channel_name",
         "rawType": "object",
         "type": "string"
        }
       ],
       "conversionMethod": "pd.DataFrame",
       "ref": "8e76dcf9-4d2c-487f-9170-33a3fc13de4a",
       "rows": [
        [
         "0",
         "10.432",
         "15.008",
         "2016-01-01 00:00:00",
         "71",
         "OLD"
        ],
        [
         "1",
         "10.432203",
         "15.007815",
         "2016-01-01 00:05:00",
         "71",
         "OLD"
        ],
        [
         "2",
         "10.4354925",
         "15.008294",
         "2016-01-01 00:10:00",
         "71",
         "OLD"
        ],
        [
         "3",
         "10.449473",
         "15.0123005",
         "2016-01-01 00:15:00",
         "71",
         "OLD"
        ],
        [
         "4",
         "10.47636",
         "15.022776",
         "2016-01-01 00:20:00",
         "71",
         "OLD"
        ],
        [
         "5",
         "10.497969",
         "15.029553",
         "2016-01-01 00:25:00",
         "71",
         "OLD"
        ],
        [
         "6",
         "10.48468",
         "15.002268",
         "2016-01-01 00:30:00",
         "71",
         "OLD"
        ],
        [
         "7",
         "10.422828",
         "14.916033",
         "2016-01-01 00:35:00",
         "71",
         "OLD"
        ],
        [
         "8",
         "10.321409",
         "14.785182",
         "2016-01-01 00:40:00",
         "71",
         "OLD"
        ],
        [
         "9",
         "10.198182",
         "14.653248",
         "2016-01-01 00:45:00",
         "71",
         "OLD"
        ],
        [
         "10",
         "10.077577",
         "14.556692",
         "2016-01-01 00:50:00",
         "71",
         "OLD"
        ],
        [
         "11",
         "9.988426",
         "14.505478",
         "2016-01-01 00:55:00",
         "71",
         "OLD"
        ],
        [
         "12",
         "9.940268",
         "14.481824",
         "2016-01-01 01:00:00",
         "71",
         "OLD"
        ],
        [
         "13",
         "9.913244",
         "14.46413",
         "2016-01-01 01:05:00",
         "71",
         "OLD"
        ],
        [
         "14",
         "9.887868",
         "14.454948",
         "2016-01-01 01:10:00",
         "71",
         "OLD"
        ],
        [
         "15",
         "9.868348",
         "14.454171",
         "2016-01-01 01:15:00",
         "71",
         "OLD"
        ],
        [
         "16",
         "9.859896",
         "14.441814",
         "2016-01-01 01:20:00",
         "71",
         "OLD"
        ],
        [
         "17",
         "9.847738",
         "14.406506",
         "2016-01-01 01:25:00",
         "71",
         "OLD"
        ],
        [
         "18",
         "9.818559",
         "14.358257",
         "2016-01-01 01:30:00",
         "71",
         "OLD"
        ],
        [
         "19",
         "9.778676",
         "14.314234",
         "2016-01-01 01:35:00",
         "71",
         "OLD"
        ],
        [
         "20",
         "9.741412",
         "14.281231",
         "2016-01-01 01:40:00",
         "71",
         "OLD"
        ],
        [
         "21",
         "9.713585",
         "14.262694",
         "2016-01-01 01:45:00",
         "71",
         "OLD"
        ],
        [
         "22",
         "9.696742",
         "14.260464",
         "2016-01-01 01:50:00",
         "71",
         "OLD"
        ],
        [
         "23",
         "9.691568",
         "14.270648",
         "2016-01-01 01:55:00",
         "71",
         "OLD"
        ],
        [
         "24",
         "9.695932",
         "14.283099",
         "2016-01-01 02:00:00",
         "71",
         "OLD"
        ],
        [
         "25",
         "9.704063",
         "14.291545",
         "2016-01-01 02:05:00",
         "71",
         "OLD"
        ],
        [
         "26",
         "9.71135",
         "14.295719",
         "2016-01-01 02:10:00",
         "71",
         "OLD"
        ],
        [
         "27",
         "9.716995",
         "14.296747",
         "2016-01-01 02:15:00",
         "71",
         "OLD"
        ],
        [
         "28",
         "9.721504",
         "14.295994",
         "2016-01-01 02:20:00",
         "71",
         "OLD"
        ],
        [
         "29",
         "9.724949",
         "14.295071",
         "2016-01-01 02:25:00",
         "71",
         "OLD"
        ],
        [
         "30",
         "9.727537",
         "14.295244",
         "2016-01-01 02:30:00",
         "71",
         "OLD"
        ],
        [
         "31",
         "9.729758",
         "14.297868",
         "2016-01-01 02:35:00",
         "71",
         "OLD"
        ],
        [
         "32",
         "9.732728",
         "14.303869",
         "2016-01-01 02:40:00",
         "71",
         "OLD"
        ],
        [
         "33",
         "9.737829",
         "14.313209",
         "2016-01-01 02:45:00",
         "71",
         "OLD"
        ],
        [
         "34",
         "9.745638",
         "14.324913",
         "2016-01-01 02:50:00",
         "71",
         "OLD"
        ],
        [
         "35",
         "9.755708",
         "14.337545",
         "2016-01-01 02:55:00",
         "71",
         "OLD"
        ],
        [
         "36",
         "9.767043",
         "14.3496065",
         "2016-01-01 03:00:00",
         "71",
         "OLD"
        ],
        [
         "37",
         "9.778522",
         "14.360135",
         "2016-01-01 03:05:00",
         "71",
         "OLD"
        ],
        [
         "38",
         "9.789294",
         "14.368952",
         "2016-01-01 03:10:00",
         "71",
         "OLD"
        ],
        [
         "39",
         "9.798993",
         "14.376338",
         "2016-01-01 03:15:00",
         "71",
         "OLD"
        ],
        [
         "40",
         "9.807526",
         "14.38264",
         "2016-01-01 03:20:00",
         "71",
         "OLD"
        ],
        [
         "41",
         "9.814814",
         "14.388127",
         "2016-01-01 03:25:00",
         "71",
         "OLD"
        ],
        [
         "42",
         "9.820795",
         "14.392934",
         "2016-01-01 03:30:00",
         "71",
         "OLD"
        ],
        [
         "43",
         "9.825462",
         "14.396998",
         "2016-01-01 03:35:00",
         "71",
         "OLD"
        ],
        [
         "44",
         "9.828837",
         "14.400198",
         "2016-01-01 03:40:00",
         "71",
         "OLD"
        ],
        [
         "45",
         "9.831081",
         "14.4029045",
         "2016-01-01 03:45:00",
         "71",
         "OLD"
        ],
        [
         "46",
         "9.832996",
         "14.406943",
         "2016-01-01 03:50:00",
         "71",
         "OLD"
        ],
        [
         "47",
         "9.836549",
         "14.415062",
         "2016-01-01 03:55:00",
         "71",
         "OLD"
        ],
        [
         "48",
         "9.843784",
         "14.426478",
         "2016-01-01 04:00:00",
         "71",
         "OLD"
        ],
        [
         "49",
         "9.85306",
         "14.432792",
         "2016-01-01 04:05:00",
         "71",
         "OLD"
        ]
       ],
       "shape": {
        "columns": 5,
        "rows": 841537
       }
      },
      "text/html": [
       "<div>\n",
       "<style scoped>\n",
       "    .dataframe tbody tr th:only-of-type {\n",
       "        vertical-align: middle;\n",
       "    }\n",
       "\n",
       "    .dataframe tbody tr th {\n",
       "        vertical-align: top;\n",
       "    }\n",
       "\n",
       "    .dataframe thead th {\n",
       "        text-align: right;\n",
       "    }\n",
       "</style>\n",
       "<table border=\"1\" class=\"dataframe\">\n",
       "  <thead>\n",
       "    <tr style=\"text-align: right;\">\n",
       "      <th></th>\n",
       "      <th>upstream_stage</th>\n",
       "      <th>downstream_stage</th>\n",
       "      <th>Datetime</th>\n",
       "      <th>channel_id</th>\n",
       "      <th>channel_name</th>\n",
       "    </tr>\n",
       "  </thead>\n",
       "  <tbody>\n",
       "    <tr>\n",
       "      <th>0</th>\n",
       "      <td>10.432000</td>\n",
       "      <td>15.008000</td>\n",
       "      <td>2016-01-01 00:00:00</td>\n",
       "      <td>71</td>\n",
       "      <td>OLD</td>\n",
       "    </tr>\n",
       "    <tr>\n",
       "      <th>1</th>\n",
       "      <td>10.432203</td>\n",
       "      <td>15.007815</td>\n",
       "      <td>2016-01-01 00:05:00</td>\n",
       "      <td>71</td>\n",
       "      <td>OLD</td>\n",
       "    </tr>\n",
       "    <tr>\n",
       "      <th>2</th>\n",
       "      <td>10.435493</td>\n",
       "      <td>15.008294</td>\n",
       "      <td>2016-01-01 00:10:00</td>\n",
       "      <td>71</td>\n",
       "      <td>OLD</td>\n",
       "    </tr>\n",
       "    <tr>\n",
       "      <th>3</th>\n",
       "      <td>10.449473</td>\n",
       "      <td>15.012300</td>\n",
       "      <td>2016-01-01 00:15:00</td>\n",
       "      <td>71</td>\n",
       "      <td>OLD</td>\n",
       "    </tr>\n",
       "    <tr>\n",
       "      <th>4</th>\n",
       "      <td>10.476360</td>\n",
       "      <td>15.022776</td>\n",
       "      <td>2016-01-01 00:20:00</td>\n",
       "      <td>71</td>\n",
       "      <td>OLD</td>\n",
       "    </tr>\n",
       "    <tr>\n",
       "      <th>...</th>\n",
       "      <td>...</td>\n",
       "      <td>...</td>\n",
       "      <td>...</td>\n",
       "      <td>...</td>\n",
       "      <td>...</td>\n",
       "    </tr>\n",
       "    <tr>\n",
       "      <th>841532</th>\n",
       "      <td>10.235268</td>\n",
       "      <td>14.767039</td>\n",
       "      <td>2023-12-31 23:40:00</td>\n",
       "      <td>71</td>\n",
       "      <td>OLD</td>\n",
       "    </tr>\n",
       "    <tr>\n",
       "      <th>841533</th>\n",
       "      <td>10.187270</td>\n",
       "      <td>14.715638</td>\n",
       "      <td>2023-12-31 23:45:00</td>\n",
       "      <td>71</td>\n",
       "      <td>OLD</td>\n",
       "    </tr>\n",
       "    <tr>\n",
       "      <th>841534</th>\n",
       "      <td>10.136885</td>\n",
       "      <td>14.660568</td>\n",
       "      <td>2023-12-31 23:50:00</td>\n",
       "      <td>71</td>\n",
       "      <td>OLD</td>\n",
       "    </tr>\n",
       "    <tr>\n",
       "      <th>841535</th>\n",
       "      <td>10.083745</td>\n",
       "      <td>14.604394</td>\n",
       "      <td>2023-12-31 23:55:00</td>\n",
       "      <td>71</td>\n",
       "      <td>OLD</td>\n",
       "    </tr>\n",
       "    <tr>\n",
       "      <th>841536</th>\n",
       "      <td>10.029849</td>\n",
       "      <td>14.551425</td>\n",
       "      <td>2024-01-01 00:00:00</td>\n",
       "      <td>71</td>\n",
       "      <td>OLD</td>\n",
       "    </tr>\n",
       "  </tbody>\n",
       "</table>\n",
       "<p>841537 rows × 5 columns</p>\n",
       "</div>"
      ],
      "text/plain": [
       "        upstream_stage  downstream_stage            Datetime  channel_id  \\\n",
       "0            10.432000         15.008000 2016-01-01 00:00:00          71   \n",
       "1            10.432203         15.007815 2016-01-01 00:05:00          71   \n",
       "2            10.435493         15.008294 2016-01-01 00:10:00          71   \n",
       "3            10.449473         15.012300 2016-01-01 00:15:00          71   \n",
       "4            10.476360         15.022776 2016-01-01 00:20:00          71   \n",
       "...                ...               ...                 ...         ...   \n",
       "841532       10.235268         14.767039 2023-12-31 23:40:00          71   \n",
       "841533       10.187270         14.715638 2023-12-31 23:45:00          71   \n",
       "841534       10.136885         14.660568 2023-12-31 23:50:00          71   \n",
       "841535       10.083745         14.604394 2023-12-31 23:55:00          71   \n",
       "841536       10.029849         14.551425 2024-01-01 00:00:00          71   \n",
       "\n",
       "       channel_name  \n",
       "0               OLD  \n",
       "1               OLD  \n",
       "2               OLD  \n",
       "3               OLD  \n",
       "4               OLD  \n",
       "...             ...  \n",
       "841532          OLD  \n",
       "841533          OLD  \n",
       "841534          OLD  \n",
       "841535          OLD  \n",
       "841536          OLD  \n",
       "\n",
       "[841537 rows x 5 columns]"
      ]
     },
     "execution_count": 57,
     "metadata": {},
     "output_type": "execute_result"
    }
   ],
   "source": [
    "old = pd.concat([df, df_time_series], axis=1)\n",
    "old['channel_id'] = 71\n",
    "old['channel_name'] = 'OLD'\n",
    "\n",
    "old"
   ]
  },
  {
   "cell_type": "code",
   "execution_count": 68,
   "metadata": {},
   "outputs": [
    {
     "data": {
      "application/vnd.microsoft.datawrangler.viewer.v0+json": {
       "columns": [
        {
         "name": "index",
         "rawType": "int64",
         "type": "integer"
        },
        {
         "name": "upstream_stage",
         "rawType": "float32",
         "type": "float"
        },
        {
         "name": "downstream_stage",
         "rawType": "float32",
         "type": "float"
        },
        {
         "name": "Datetime",
         "rawType": "datetime64[ns]",
         "type": "datetime"
        },
        {
         "name": "channel_id",
         "rawType": "int64",
         "type": "integer"
        },
        {
         "name": "channel_name",
         "rawType": "object",
         "type": "string"
        }
       ],
       "conversionMethod": "pd.DataFrame",
       "ref": "859dc957-13ee-4cda-854d-55f5eb088146",
       "rows": [
        [
         "0",
         "11.7",
         "11.703",
         "2016-01-01 00:00:00",
         "205",
         "DGL"
        ],
        [
         "1",
         "11.691543",
         "11.698506",
         "2016-01-01 00:05:00",
         "205",
         "DGL"
        ],
        [
         "2",
         "11.614029",
         "11.651988",
         "2016-01-01 00:10:00",
         "205",
         "DGL"
        ],
        [
         "3",
         "11.347808",
         "11.463165",
         "2016-01-01 00:15:00",
         "205",
         "DGL"
        ],
        [
         "4",
         "11.024039",
         "11.124381",
         "2016-01-01 00:20:00",
         "205",
         "DGL"
        ],
        [
         "5",
         "10.990721",
         "10.942474",
         "2016-01-01 00:25:00",
         "205",
         "DGL"
        ],
        [
         "6",
         "11.134331",
         "11.118504",
         "2016-01-01 00:30:00",
         "205",
         "DGL"
        ],
        [
         "7",
         "11.248667",
         "11.29661",
         "2016-01-01 00:35:00",
         "205",
         "DGL"
        ],
        [
         "8",
         "11.233132",
         "11.265678",
         "2016-01-01 00:40:00",
         "205",
         "DGL"
        ],
        [
         "9",
         "11.151403",
         "11.163157",
         "2016-01-01 00:45:00",
         "205",
         "DGL"
        ],
        [
         "10",
         "11.105863",
         "11.108413",
         "2016-01-01 00:50:00",
         "205",
         "DGL"
        ],
        [
         "11",
         "11.09177",
         "11.110447",
         "2016-01-01 00:55:00",
         "205",
         "DGL"
        ],
        [
         "12",
         "11.107462",
         "11.134304",
         "2016-01-01 01:00:00",
         "205",
         "DGL"
        ],
        [
         "13",
         "11.142314",
         "11.164887",
         "2016-01-01 01:05:00",
         "205",
         "DGL"
        ],
        [
         "14",
         "11.174693",
         "11.194455",
         "2016-01-01 01:10:00",
         "205",
         "DGL"
        ],
        [
         "15",
         "11.179316",
         "11.199529",
         "2016-01-01 01:15:00",
         "205",
         "DGL"
        ],
        [
         "16",
         "11.156338",
         "11.180628",
         "2016-01-01 01:20:00",
         "205",
         "DGL"
        ],
        [
         "17",
         "11.14765",
         "11.166648",
         "2016-01-01 01:25:00",
         "205",
         "DGL"
        ],
        [
         "18",
         "11.15553",
         "11.178198",
         "2016-01-01 01:30:00",
         "205",
         "DGL"
        ],
        [
         "19",
         "11.168734",
         "11.19169",
         "2016-01-01 01:35:00",
         "205",
         "DGL"
        ],
        [
         "20",
         "11.180111",
         "11.194337",
         "2016-01-01 01:40:00",
         "205",
         "DGL"
        ],
        [
         "21",
         "11.182005",
         "11.196886",
         "2016-01-01 01:45:00",
         "205",
         "DGL"
        ],
        [
         "22",
         "11.180058",
         "11.198077",
         "2016-01-01 01:50:00",
         "205",
         "DGL"
        ],
        [
         "23",
         "11.179453",
         "11.199291",
         "2016-01-01 01:55:00",
         "205",
         "DGL"
        ],
        [
         "24",
         "11.183289",
         "11.205143",
         "2016-01-01 02:00:00",
         "205",
         "DGL"
        ],
        [
         "25",
         "11.19166",
         "11.213355",
         "2016-01-01 02:05:00",
         "205",
         "DGL"
        ],
        [
         "26",
         "11.200692",
         "11.221688",
         "2016-01-01 02:10:00",
         "205",
         "DGL"
        ],
        [
         "27",
         "11.208019",
         "11.228987",
         "2016-01-01 02:15:00",
         "205",
         "DGL"
        ],
        [
         "28",
         "11.213527",
         "11.234881",
         "2016-01-01 02:20:00",
         "205",
         "DGL"
        ],
        [
         "29",
         "11.218819",
         "11.239886",
         "2016-01-01 02:25:00",
         "205",
         "DGL"
        ],
        [
         "30",
         "11.224604",
         "11.244659",
         "2016-01-01 02:30:00",
         "205",
         "DGL"
        ],
        [
         "31",
         "11.229997",
         "11.249311",
         "2016-01-01 02:35:00",
         "205",
         "DGL"
        ],
        [
         "32",
         "11.23421",
         "11.253271",
         "2016-01-01 02:40:00",
         "205",
         "DGL"
        ],
        [
         "33",
         "11.23708",
         "11.256314",
         "2016-01-01 02:45:00",
         "205",
         "DGL"
        ],
        [
         "34",
         "11.239082",
         "11.258616",
         "2016-01-01 02:50:00",
         "205",
         "DGL"
        ],
        [
         "35",
         "11.240683",
         "11.260263",
         "2016-01-01 02:55:00",
         "205",
         "DGL"
        ],
        [
         "36",
         "11.241678",
         "11.260829",
         "2016-01-01 03:00:00",
         "205",
         "DGL"
        ],
        [
         "37",
         "11.241071",
         "11.259233",
         "2016-01-01 03:05:00",
         "205",
         "DGL"
        ],
        [
         "38",
         "11.237238",
         "11.253902",
         "2016-01-01 03:10:00",
         "205",
         "DGL"
        ],
        [
         "39",
         "11.2282715",
         "11.242945",
         "2016-01-01 03:15:00",
         "205",
         "DGL"
        ],
        [
         "40",
         "11.212245",
         "11.224464",
         "2016-01-01 03:20:00",
         "205",
         "DGL"
        ],
        [
         "41",
         "11.1878195",
         "11.197005",
         "2016-01-01 03:25:00",
         "205",
         "DGL"
        ],
        [
         "42",
         "11.158088",
         "11.161744",
         "2016-01-01 03:30:00",
         "205",
         "DGL"
        ],
        [
         "43",
         "11.135161",
         "11.127599",
         "2016-01-01 03:35:00",
         "205",
         "DGL"
        ],
        [
         "44",
         "11.113635",
         "11.101638",
         "2016-01-01 03:40:00",
         "205",
         "DGL"
        ],
        [
         "45",
         "11.061551",
         "11.060284",
         "2016-01-01 03:45:00",
         "205",
         "DGL"
        ],
        [
         "46",
         "10.981133",
         "10.977955",
         "2016-01-01 03:50:00",
         "205",
         "DGL"
        ],
        [
         "47",
         "10.896274",
         "10.883125",
         "2016-01-01 03:55:00",
         "205",
         "DGL"
        ],
        [
         "48",
         "10.817249",
         "10.806412",
         "2016-01-01 04:00:00",
         "205",
         "DGL"
        ],
        [
         "49",
         "10.747987",
         "10.739741",
         "2016-01-01 04:05:00",
         "205",
         "DGL"
        ]
       ],
       "shape": {
        "columns": 5,
        "rows": 841537
       }
      },
      "text/html": [
       "<div>\n",
       "<style scoped>\n",
       "    .dataframe tbody tr th:only-of-type {\n",
       "        vertical-align: middle;\n",
       "    }\n",
       "\n",
       "    .dataframe tbody tr th {\n",
       "        vertical-align: top;\n",
       "    }\n",
       "\n",
       "    .dataframe thead th {\n",
       "        text-align: right;\n",
       "    }\n",
       "</style>\n",
       "<table border=\"1\" class=\"dataframe\">\n",
       "  <thead>\n",
       "    <tr style=\"text-align: right;\">\n",
       "      <th></th>\n",
       "      <th>upstream_stage</th>\n",
       "      <th>downstream_stage</th>\n",
       "      <th>Datetime</th>\n",
       "      <th>channel_id</th>\n",
       "      <th>channel_name</th>\n",
       "    </tr>\n",
       "  </thead>\n",
       "  <tbody>\n",
       "    <tr>\n",
       "      <th>0</th>\n",
       "      <td>11.700000</td>\n",
       "      <td>11.703000</td>\n",
       "      <td>2016-01-01 00:00:00</td>\n",
       "      <td>205</td>\n",
       "      <td>DGL</td>\n",
       "    </tr>\n",
       "    <tr>\n",
       "      <th>1</th>\n",
       "      <td>11.691543</td>\n",
       "      <td>11.698506</td>\n",
       "      <td>2016-01-01 00:05:00</td>\n",
       "      <td>205</td>\n",
       "      <td>DGL</td>\n",
       "    </tr>\n",
       "    <tr>\n",
       "      <th>2</th>\n",
       "      <td>11.614029</td>\n",
       "      <td>11.651988</td>\n",
       "      <td>2016-01-01 00:10:00</td>\n",
       "      <td>205</td>\n",
       "      <td>DGL</td>\n",
       "    </tr>\n",
       "    <tr>\n",
       "      <th>3</th>\n",
       "      <td>11.347808</td>\n",
       "      <td>11.463165</td>\n",
       "      <td>2016-01-01 00:15:00</td>\n",
       "      <td>205</td>\n",
       "      <td>DGL</td>\n",
       "    </tr>\n",
       "    <tr>\n",
       "      <th>4</th>\n",
       "      <td>11.024039</td>\n",
       "      <td>11.124381</td>\n",
       "      <td>2016-01-01 00:20:00</td>\n",
       "      <td>205</td>\n",
       "      <td>DGL</td>\n",
       "    </tr>\n",
       "    <tr>\n",
       "      <th>...</th>\n",
       "      <td>...</td>\n",
       "      <td>...</td>\n",
       "      <td>...</td>\n",
       "      <td>...</td>\n",
       "      <td>...</td>\n",
       "    </tr>\n",
       "    <tr>\n",
       "      <th>841532</th>\n",
       "      <td>10.949558</td>\n",
       "      <td>10.952247</td>\n",
       "      <td>2023-12-31 23:40:00</td>\n",
       "      <td>205</td>\n",
       "      <td>DGL</td>\n",
       "    </tr>\n",
       "    <tr>\n",
       "      <th>841533</th>\n",
       "      <td>10.906884</td>\n",
       "      <td>10.915722</td>\n",
       "      <td>2023-12-31 23:45:00</td>\n",
       "      <td>205</td>\n",
       "      <td>DGL</td>\n",
       "    </tr>\n",
       "    <tr>\n",
       "      <th>841534</th>\n",
       "      <td>10.855926</td>\n",
       "      <td>10.855654</td>\n",
       "      <td>2023-12-31 23:50:00</td>\n",
       "      <td>205</td>\n",
       "      <td>DGL</td>\n",
       "    </tr>\n",
       "    <tr>\n",
       "      <th>841535</th>\n",
       "      <td>10.797088</td>\n",
       "      <td>10.798704</td>\n",
       "      <td>2023-12-31 23:55:00</td>\n",
       "      <td>205</td>\n",
       "      <td>DGL</td>\n",
       "    </tr>\n",
       "    <tr>\n",
       "      <th>841536</th>\n",
       "      <td>10.739311</td>\n",
       "      <td>10.742247</td>\n",
       "      <td>2024-01-01 00:00:00</td>\n",
       "      <td>205</td>\n",
       "      <td>DGL</td>\n",
       "    </tr>\n",
       "  </tbody>\n",
       "</table>\n",
       "<p>841537 rows × 5 columns</p>\n",
       "</div>"
      ],
      "text/plain": [
       "        upstream_stage  downstream_stage            Datetime  channel_id  \\\n",
       "0            11.700000         11.703000 2016-01-01 00:00:00         205   \n",
       "1            11.691543         11.698506 2016-01-01 00:05:00         205   \n",
       "2            11.614029         11.651988 2016-01-01 00:10:00         205   \n",
       "3            11.347808         11.463165 2016-01-01 00:15:00         205   \n",
       "4            11.024039         11.124381 2016-01-01 00:20:00         205   \n",
       "...                ...               ...                 ...         ...   \n",
       "841532       10.949558         10.952247 2023-12-31 23:40:00         205   \n",
       "841533       10.906884         10.915722 2023-12-31 23:45:00         205   \n",
       "841534       10.855926         10.855654 2023-12-31 23:50:00         205   \n",
       "841535       10.797088         10.798704 2023-12-31 23:55:00         205   \n",
       "841536       10.739311         10.742247 2024-01-01 00:00:00         205   \n",
       "\n",
       "       channel_name  \n",
       "0               DGL  \n",
       "1               DGL  \n",
       "2               DGL  \n",
       "3               DGL  \n",
       "4               DGL  \n",
       "...             ...  \n",
       "841532          DGL  \n",
       "841533          DGL  \n",
       "841534          DGL  \n",
       "841535          DGL  \n",
       "841536          DGL  \n",
       "\n",
       "[841537 rows x 5 columns]"
      ]
     },
     "execution_count": 68,
     "metadata": {},
     "output_type": "execute_result"
    }
   ],
   "source": [
    "dgl = pd.concat([dgl_df, df_time_series], axis=1)\n",
    "dgl['channel_id'] = 205\n",
    "dgl['channel_name'] = 'DGL'\n",
    "\n",
    "dgl"
   ]
  },
  {
   "cell_type": "code",
   "execution_count": 70,
   "metadata": {},
   "outputs": [
    {
     "data": {
      "application/vnd.microsoft.datawrangler.viewer.v0+json": {
       "columns": [
        {
         "name": "index",
         "rawType": "int64",
         "type": "integer"
        },
        {
         "name": "upstream_stage",
         "rawType": "float32",
         "type": "float"
        },
        {
         "name": "downstream_stage",
         "rawType": "float32",
         "type": "float"
        },
        {
         "name": "Datetime",
         "rawType": "datetime64[ns]",
         "type": "datetime"
        },
        {
         "name": "channel_id",
         "rawType": "int64",
         "type": "integer"
        },
        {
         "name": "channel_name",
         "rawType": "object",
         "type": "string"
        }
       ],
       "conversionMethod": "pd.DataFrame",
       "ref": "6df177ff-3cdd-42d3-9048-636a3e409cc8",
       "rows": [
        [
         "0",
         "19.907",
         "25.16381",
         "2016-01-01 00:00:00",
         "128",
         "MHO"
        ],
        [
         "1",
         "19.906578",
         "25.163576",
         "2016-01-01 00:05:00",
         "128",
         "MHO"
        ],
        [
         "2",
         "19.906279",
         "25.163193",
         "2016-01-01 00:10:00",
         "128",
         "MHO"
        ],
        [
         "3",
         "19.905836",
         "25.162859",
         "2016-01-01 00:15:00",
         "128",
         "MHO"
        ],
        [
         "4",
         "19.90514",
         "25.162233",
         "2016-01-01 00:20:00",
         "128",
         "MHO"
        ],
        [
         "5",
         "19.903898",
         "25.161283",
         "2016-01-01 00:25:00",
         "128",
         "MHO"
        ],
        [
         "6",
         "19.899641",
         "25.158745",
         "2016-01-01 00:30:00",
         "128",
         "MHO"
        ],
        [
         "7",
         "19.886362",
         "25.150036",
         "2016-01-01 00:35:00",
         "128",
         "MHO"
        ],
        [
         "8",
         "19.855711",
         "25.12727",
         "2016-01-01 00:40:00",
         "128",
         "MHO"
        ],
        [
         "9",
         "19.803036",
         "25.083529",
         "2016-01-01 00:45:00",
         "128",
         "MHO"
        ],
        [
         "10",
         "19.735998",
         "25.021599",
         "2016-01-01 00:50:00",
         "128",
         "MHO"
        ],
        [
         "11",
         "19.675009",
         "24.959051",
         "2016-01-01 00:55:00",
         "128",
         "MHO"
        ],
        [
         "12",
         "19.639685",
         "24.918898",
         "2016-01-01 01:00:00",
         "128",
         "MHO"
        ],
        [
         "13",
         "19.634178",
         "24.910778",
         "2016-01-01 01:05:00",
         "128",
         "MHO"
        ],
        [
         "14",
         "19.64825",
         "24.924372",
         "2016-01-01 01:10:00",
         "128",
         "MHO"
        ],
        [
         "15",
         "19.668158",
         "24.943321",
         "2016-01-01 01:15:00",
         "128",
         "MHO"
        ],
        [
         "16",
         "19.684519",
         "24.9594",
         "2016-01-01 01:20:00",
         "128",
         "MHO"
        ],
        [
         "17",
         "19.697218",
         "24.972355",
         "2016-01-01 01:25:00",
         "128",
         "MHO"
        ],
        [
         "18",
         "19.711048",
         "24.984863",
         "2016-01-01 01:30:00",
         "128",
         "MHO"
        ],
        [
         "19",
         "19.725683",
         "24.99815",
         "2016-01-01 01:35:00",
         "128",
         "MHO"
        ],
        [
         "20",
         "19.736998",
         "25.009281",
         "2016-01-01 01:40:00",
         "128",
         "MHO"
        ],
        [
         "21",
         "19.743086",
         "25.01484",
         "2016-01-01 01:45:00",
         "128",
         "MHO"
        ],
        [
         "22",
         "19.744226",
         "25.014961",
         "2016-01-01 01:50:00",
         "128",
         "MHO"
        ],
        [
         "23",
         "19.741884",
         "25.012133",
         "2016-01-01 01:55:00",
         "128",
         "MHO"
        ],
        [
         "24",
         "19.738085",
         "25.009031",
         "2016-01-01 02:00:00",
         "128",
         "MHO"
        ],
        [
         "25",
         "19.734598",
         "25.00727",
         "2016-01-01 02:05:00",
         "128",
         "MHO"
        ],
        [
         "26",
         "19.732864",
         "25.006948",
         "2016-01-01 02:10:00",
         "128",
         "MHO"
        ],
        [
         "27",
         "19.733625",
         "25.007425",
         "2016-01-01 02:15:00",
         "128",
         "MHO"
        ],
        [
         "28",
         "19.736",
         "25.007849",
         "2016-01-01 02:20:00",
         "128",
         "MHO"
        ],
        [
         "29",
         "19.73773",
         "25.006683",
         "2016-01-01 02:25:00",
         "128",
         "MHO"
        ],
        [
         "30",
         "19.73599",
         "25.00136",
         "2016-01-01 02:30:00",
         "128",
         "MHO"
        ],
        [
         "31",
         "19.727436",
         "24.988554",
         "2016-01-01 02:35:00",
         "128",
         "MHO"
        ],
        [
         "32",
         "19.708881",
         "24.964943",
         "2016-01-01 02:40:00",
         "128",
         "MHO"
        ],
        [
         "33",
         "19.678339",
         "24.92844",
         "2016-01-01 02:45:00",
         "128",
         "MHO"
        ],
        [
         "34",
         "19.63502",
         "24.878773",
         "2016-01-01 02:50:00",
         "128",
         "MHO"
        ],
        [
         "35",
         "19.579071",
         "24.816887",
         "2016-01-01 02:55:00",
         "128",
         "MHO"
        ],
        [
         "36",
         "19.511677",
         "24.744648",
         "2016-01-01 03:00:00",
         "128",
         "MHO"
        ],
        [
         "37",
         "19.435198",
         "24.66509",
         "2016-01-01 03:05:00",
         "128",
         "MHO"
        ],
        [
         "38",
         "19.352839",
         "24.582054",
         "2016-01-01 03:10:00",
         "128",
         "MHO"
        ],
        [
         "39",
         "19.268541",
         "24.499367",
         "2016-01-01 03:15:00",
         "128",
         "MHO"
        ],
        [
         "40",
         "19.186865",
         "24.420038",
         "2016-01-01 03:20:00",
         "128",
         "MHO"
        ],
        [
         "41",
         "19.111198",
         "24.3462",
         "2016-01-01 03:25:00",
         "128",
         "MHO"
        ],
        [
         "42",
         "19.042547",
         "24.27912",
         "2016-01-01 03:30:00",
         "128",
         "MHO"
        ],
        [
         "43",
         "18.980427",
         "24.218367",
         "2016-01-01 03:35:00",
         "128",
         "MHO"
        ],
        [
         "44",
         "18.923346",
         "24.162197",
         "2016-01-01 03:40:00",
         "128",
         "MHO"
        ],
        [
         "45",
         "18.869135",
         "24.108805",
         "2016-01-01 03:45:00",
         "128",
         "MHO"
        ],
        [
         "46",
         "18.81611",
         "24.056808",
         "2016-01-01 03:50:00",
         "128",
         "MHO"
        ],
        [
         "47",
         "18.763626",
         "24.005459",
         "2016-01-01 03:55:00",
         "128",
         "MHO"
        ],
        [
         "48",
         "18.712246",
         "23.954874",
         "2016-01-01 04:00:00",
         "128",
         "MHO"
        ],
        [
         "49",
         "18.663307",
         "23.906033",
         "2016-01-01 04:05:00",
         "128",
         "MHO"
        ]
       ],
       "shape": {
        "columns": 5,
        "rows": 841537
       }
      },
      "text/html": [
       "<div>\n",
       "<style scoped>\n",
       "    .dataframe tbody tr th:only-of-type {\n",
       "        vertical-align: middle;\n",
       "    }\n",
       "\n",
       "    .dataframe tbody tr th {\n",
       "        vertical-align: top;\n",
       "    }\n",
       "\n",
       "    .dataframe thead th {\n",
       "        text-align: right;\n",
       "    }\n",
       "</style>\n",
       "<table border=\"1\" class=\"dataframe\">\n",
       "  <thead>\n",
       "    <tr style=\"text-align: right;\">\n",
       "      <th></th>\n",
       "      <th>upstream_stage</th>\n",
       "      <th>downstream_stage</th>\n",
       "      <th>Datetime</th>\n",
       "      <th>channel_id</th>\n",
       "      <th>channel_name</th>\n",
       "    </tr>\n",
       "  </thead>\n",
       "  <tbody>\n",
       "    <tr>\n",
       "      <th>0</th>\n",
       "      <td>19.907000</td>\n",
       "      <td>25.163811</td>\n",
       "      <td>2016-01-01 00:00:00</td>\n",
       "      <td>128</td>\n",
       "      <td>MHO</td>\n",
       "    </tr>\n",
       "    <tr>\n",
       "      <th>1</th>\n",
       "      <td>19.906578</td>\n",
       "      <td>25.163576</td>\n",
       "      <td>2016-01-01 00:05:00</td>\n",
       "      <td>128</td>\n",
       "      <td>MHO</td>\n",
       "    </tr>\n",
       "    <tr>\n",
       "      <th>2</th>\n",
       "      <td>19.906279</td>\n",
       "      <td>25.163193</td>\n",
       "      <td>2016-01-01 00:10:00</td>\n",
       "      <td>128</td>\n",
       "      <td>MHO</td>\n",
       "    </tr>\n",
       "    <tr>\n",
       "      <th>3</th>\n",
       "      <td>19.905836</td>\n",
       "      <td>25.162859</td>\n",
       "      <td>2016-01-01 00:15:00</td>\n",
       "      <td>128</td>\n",
       "      <td>MHO</td>\n",
       "    </tr>\n",
       "    <tr>\n",
       "      <th>4</th>\n",
       "      <td>19.905140</td>\n",
       "      <td>25.162233</td>\n",
       "      <td>2016-01-01 00:20:00</td>\n",
       "      <td>128</td>\n",
       "      <td>MHO</td>\n",
       "    </tr>\n",
       "    <tr>\n",
       "      <th>...</th>\n",
       "      <td>...</td>\n",
       "      <td>...</td>\n",
       "      <td>...</td>\n",
       "      <td>...</td>\n",
       "      <td>...</td>\n",
       "    </tr>\n",
       "    <tr>\n",
       "      <th>841532</th>\n",
       "      <td>18.981323</td>\n",
       "      <td>24.222729</td>\n",
       "      <td>2023-12-31 23:40:00</td>\n",
       "      <td>128</td>\n",
       "      <td>MHO</td>\n",
       "    </tr>\n",
       "    <tr>\n",
       "      <th>841533</th>\n",
       "      <td>18.934793</td>\n",
       "      <td>24.176683</td>\n",
       "      <td>2023-12-31 23:45:00</td>\n",
       "      <td>128</td>\n",
       "      <td>MHO</td>\n",
       "    </tr>\n",
       "    <tr>\n",
       "      <th>841534</th>\n",
       "      <td>18.886534</td>\n",
       "      <td>24.129374</td>\n",
       "      <td>2023-12-31 23:50:00</td>\n",
       "      <td>128</td>\n",
       "      <td>MHO</td>\n",
       "    </tr>\n",
       "    <tr>\n",
       "      <th>841535</th>\n",
       "      <td>18.835636</td>\n",
       "      <td>24.079800</td>\n",
       "      <td>2023-12-31 23:55:00</td>\n",
       "      <td>128</td>\n",
       "      <td>MHO</td>\n",
       "    </tr>\n",
       "    <tr>\n",
       "      <th>841536</th>\n",
       "      <td>18.782423</td>\n",
       "      <td>24.027653</td>\n",
       "      <td>2024-01-01 00:00:00</td>\n",
       "      <td>128</td>\n",
       "      <td>MHO</td>\n",
       "    </tr>\n",
       "  </tbody>\n",
       "</table>\n",
       "<p>841537 rows × 5 columns</p>\n",
       "</div>"
      ],
      "text/plain": [
       "        upstream_stage  downstream_stage            Datetime  channel_id  \\\n",
       "0            19.907000         25.163811 2016-01-01 00:00:00         128   \n",
       "1            19.906578         25.163576 2016-01-01 00:05:00         128   \n",
       "2            19.906279         25.163193 2016-01-01 00:10:00         128   \n",
       "3            19.905836         25.162859 2016-01-01 00:15:00         128   \n",
       "4            19.905140         25.162233 2016-01-01 00:20:00         128   \n",
       "...                ...               ...                 ...         ...   \n",
       "841532       18.981323         24.222729 2023-12-31 23:40:00         128   \n",
       "841533       18.934793         24.176683 2023-12-31 23:45:00         128   \n",
       "841534       18.886534         24.129374 2023-12-31 23:50:00         128   \n",
       "841535       18.835636         24.079800 2023-12-31 23:55:00         128   \n",
       "841536       18.782423         24.027653 2024-01-01 00:00:00         128   \n",
       "\n",
       "       channel_name  \n",
       "0               MHO  \n",
       "1               MHO  \n",
       "2               MHO  \n",
       "3               MHO  \n",
       "4               MHO  \n",
       "...             ...  \n",
       "841532          MHO  \n",
       "841533          MHO  \n",
       "841534          MHO  \n",
       "841535          MHO  \n",
       "841536          MHO  \n",
       "\n",
       "[841537 rows x 5 columns]"
      ]
     },
     "execution_count": 70,
     "metadata": {},
     "output_type": "execute_result"
    }
   ],
   "source": [
    "mho = pd.concat([mho_df, df_time_series], axis=1)\n",
    "mho['channel_id'] = 128\n",
    "mho['channel_name'] = 'MHO'\n",
    "\n",
    "mho"
   ]
  },
  {
   "cell_type": "code",
   "execution_count": 80,
   "metadata": {},
   "outputs": [],
   "source": [
    "#baseline\n",
    "\n",
    "base_mho = pd.concat([base_mho_df, base_time_series], axis=1)\n",
    "base_mho['channel_id'] = 128\n",
    "base_mho['channel_name'] = 'MHO'\n",
    "\n",
    "base_old = pd.concat([base_old_df, base_time_series], axis=1)\n",
    "base_old['channel_id'] = 71\n",
    "base_old['channel_name'] = 'OLD'\n",
    "\n",
    "base_dgl = pd.concat([base_dgl_df, base_time_series], axis=1)\n",
    "base_dgl['channel_id'] = 205\n",
    "base_dgl['channel_name'] = 'DGL'\n"
   ]
  },
  {
   "cell_type": "code",
   "execution_count": 60,
   "metadata": {},
   "outputs": [],
   "source": [
    "old.to_csv('/Users/maddeerubenson/Documents/git/SDG/sdg-dashboard/data-raw/data-exports/exports/old_stage_export.csv')"
   ]
  },
  {
   "cell_type": "code",
   "execution_count": 69,
   "metadata": {},
   "outputs": [],
   "source": [
    "dgl.to_csv('/Users/maddeerubenson/Documents/git/SDG/sdg-dashboard/data-raw/data-exports/exports/dgl_stage_export.csv')"
   ]
  },
  {
   "cell_type": "code",
   "execution_count": 71,
   "metadata": {},
   "outputs": [],
   "source": [
    "mho.to_csv('/Users/maddeerubenson/Documents/git/SDG/sdg-dashboard/data-raw/data-exports/exports/mho_stage_export.csv')"
   ]
  },
  {
   "cell_type": "code",
   "execution_count": 81,
   "metadata": {},
   "outputs": [],
   "source": [
    "base_dgl.to_csv('/Users/maddeerubenson/Documents/git/SDG/sdg-dashboard/data-raw/data-exports/exports/dgl_baseline_stage_export.csv')\n",
    "base_old.to_csv('/Users/maddeerubenson/Documents/git/SDG/sdg-dashboard/data-raw/data-exports/exports/old_baseline_stage_export.csv')\n",
    "base_mho.to_csv('/Users/maddeerubenson/Documents/git/SDG/sdg-dashboard/data-raw/data-exports/exports/mho_baseline_stage_export.csv')"
   ]
  }
 ],
 "metadata": {
  "kernelspec": {
   "display_name": "sdg",
   "language": "python",
   "name": "python3"
  },
  "language_info": {
   "codemirror_mode": {
    "name": "ipython",
    "version": 3
   },
   "file_extension": ".py",
   "mimetype": "text/x-python",
   "name": "python",
   "nbconvert_exporter": "python",
   "pygments_lexer": "ipython3",
   "version": "3.13.2"
  }
 },
 "nbformat": 4,
 "nbformat_minor": 2
}
