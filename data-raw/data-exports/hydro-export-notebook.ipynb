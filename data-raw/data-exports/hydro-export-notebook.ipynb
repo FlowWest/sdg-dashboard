{
 "cells": [
  {
   "cell_type": "code",
   "execution_count": 5,
   "metadata": {},
   "outputs": [],
   "source": [
    "import pandas as pd\n",
    "import numpy as np\n",
    "import hdf5plugin\n",
    "import h5py\n"
   ]
  },
  {
   "cell_type": "code",
   "execution_count": 6,
   "metadata": {},
   "outputs": [],
   "source": [
    "file = '/Users/maddeerubenson/Downloads/FPV2Mb.h5'\n",
    "hydro = h5py.File(file,'r')"
   ]
  },
  {
   "cell_type": "code",
   "execution_count": 7,
   "metadata": {},
   "outputs": [],
   "source": [
    "stage = hydro['hydro/data/channel stage']"
   ]
  },
  {
   "cell_type": "markdown",
   "metadata": {},
   "source": [
    ": = all \n",
    "0 = channel id \n",
    "0 = upstream; 1 = downstream (ref: geometry/channel location)\n",
    "start date/time = 2016-01-01 00-00-00\n",
    "end date/time is 2024-01-01 00:00:00\n",
    "interval = 5 minutes"
   ]
  },
  {
   "cell_type": "code",
   "execution_count": 28,
   "metadata": {},
   "outputs": [
    {
     "name": "stderr",
     "output_type": "stream",
     "text": [
      "/var/folders/45/p22_x33n4s1dbmnzjdjzfr_80000gn/T/ipykernel_52928/3872148131.py:5: FutureWarning: 'T' is deprecated and will be removed in a future version, please use 'min' instead.\n",
      "  time_series = pd.date_range(start=start_time, end=end_time, freq=\"5T\")\n"
     ]
    },
    {
     "data": {
      "application/vnd.microsoft.datawrangler.viewer.v0+json": {
       "columns": [
        {
         "name": "index",
         "rawType": "int64",
         "type": "integer"
        },
        {
         "name": "Datetime",
         "rawType": "datetime64[ns]",
         "type": "datetime"
        }
       ],
       "conversionMethod": "pd.DataFrame",
       "ref": "8d79378d-f350-43b6-bb49-3acffac1a96b",
       "rows": [
        [
         "0",
         "2016-01-01 00:00:00"
        ],
        [
         "1",
         "2016-01-01 00:05:00"
        ],
        [
         "2",
         "2016-01-01 00:10:00"
        ],
        [
         "3",
         "2016-01-01 00:15:00"
        ],
        [
         "4",
         "2016-01-01 00:20:00"
        ]
       ],
       "shape": {
        "columns": 1,
        "rows": 5
       }
      },
      "text/html": [
       "<div>\n",
       "<style scoped>\n",
       "    .dataframe tbody tr th:only-of-type {\n",
       "        vertical-align: middle;\n",
       "    }\n",
       "\n",
       "    .dataframe tbody tr th {\n",
       "        vertical-align: top;\n",
       "    }\n",
       "\n",
       "    .dataframe thead th {\n",
       "        text-align: right;\n",
       "    }\n",
       "</style>\n",
       "<table border=\"1\" class=\"dataframe\">\n",
       "  <thead>\n",
       "    <tr style=\"text-align: right;\">\n",
       "      <th></th>\n",
       "      <th>Datetime</th>\n",
       "    </tr>\n",
       "  </thead>\n",
       "  <tbody>\n",
       "    <tr>\n",
       "      <th>0</th>\n",
       "      <td>2016-01-01 00:00:00</td>\n",
       "    </tr>\n",
       "    <tr>\n",
       "      <th>1</th>\n",
       "      <td>2016-01-01 00:05:00</td>\n",
       "    </tr>\n",
       "    <tr>\n",
       "      <th>2</th>\n",
       "      <td>2016-01-01 00:10:00</td>\n",
       "    </tr>\n",
       "    <tr>\n",
       "      <th>3</th>\n",
       "      <td>2016-01-01 00:15:00</td>\n",
       "    </tr>\n",
       "    <tr>\n",
       "      <th>4</th>\n",
       "      <td>2016-01-01 00:20:00</td>\n",
       "    </tr>\n",
       "  </tbody>\n",
       "</table>\n",
       "</div>"
      ],
      "text/plain": [
       "             Datetime\n",
       "0 2016-01-01 00:00:00\n",
       "1 2016-01-01 00:05:00\n",
       "2 2016-01-01 00:10:00\n",
       "3 2016-01-01 00:15:00\n",
       "4 2016-01-01 00:20:00"
      ]
     },
     "execution_count": 28,
     "metadata": {},
     "output_type": "execute_result"
    }
   ],
   "source": [
    "start_time = \"2016-01-01 00:00:00\"\n",
    "end_time = \"2024-01-01 00:00:00\"\n",
    "\n",
    "# Generate the time series with a 5-minute interval\n",
    "time_series = pd.date_range(start=start_time, end=end_time, freq=\"5T\")\n",
    "\n",
    "# Create a DataFrame from the time series\n",
    "df_time_series = pd.DataFrame(time_series, columns=[\"Datetime\"])\n",
    "\n",
    "df_time_series.head()"
   ]
  },
  {
   "cell_type": "code",
   "execution_count": 8,
   "metadata": {},
   "outputs": [],
   "source": [
    "all_stage = stage[:,0,0]"
   ]
  },
  {
   "cell_type": "code",
   "execution_count": 22,
   "metadata": {},
   "outputs": [
    {
     "data": {
      "text/plain": [
       "<HDF5 dataset \"channel stage\": shape (841537, 540, 2), type \"<f4\">"
      ]
     },
     "execution_count": 22,
     "metadata": {},
     "output_type": "execute_result"
    }
   ],
   "source": [
    "stage"
   ]
  },
  {
   "cell_type": "code",
   "execution_count": 53,
   "metadata": {},
   "outputs": [],
   "source": [
    "#OLD; channel id = 71\n",
    "old_upstream = stage[:, 71, 0]\n",
    "old_downstream = stage[:, 71, 1]"
   ]
  },
  {
   "cell_type": "code",
   "execution_count": 56,
   "metadata": {},
   "outputs": [
    {
     "data": {
      "application/vnd.microsoft.datawrangler.viewer.v0+json": {
       "columns": [
        {
         "name": "index",
         "rawType": "int64",
         "type": "integer"
        },
        {
         "name": "upstream_stage",
         "rawType": "float32",
         "type": "float"
        },
        {
         "name": "downstream_stage",
         "rawType": "float32",
         "type": "float"
        }
       ],
       "conversionMethod": "pd.DataFrame",
       "ref": "ecd13b95-072d-49d4-8b3d-c9540144a371",
       "rows": [
        [
         "0",
         "10.432",
         "15.008"
        ],
        [
         "1",
         "10.432203",
         "15.007815"
        ],
        [
         "2",
         "10.4354925",
         "15.008294"
        ],
        [
         "3",
         "10.449473",
         "15.0123005"
        ],
        [
         "4",
         "10.47636",
         "15.022776"
        ],
        [
         "5",
         "10.497969",
         "15.029553"
        ],
        [
         "6",
         "10.48468",
         "15.002268"
        ],
        [
         "7",
         "10.422828",
         "14.916033"
        ],
        [
         "8",
         "10.321409",
         "14.785182"
        ],
        [
         "9",
         "10.198182",
         "14.653248"
        ],
        [
         "10",
         "10.077577",
         "14.556692"
        ],
        [
         "11",
         "9.988426",
         "14.505478"
        ],
        [
         "12",
         "9.940268",
         "14.481824"
        ],
        [
         "13",
         "9.913244",
         "14.46413"
        ],
        [
         "14",
         "9.887868",
         "14.454948"
        ],
        [
         "15",
         "9.868348",
         "14.454171"
        ],
        [
         "16",
         "9.859896",
         "14.441814"
        ],
        [
         "17",
         "9.847738",
         "14.406506"
        ],
        [
         "18",
         "9.818559",
         "14.358257"
        ],
        [
         "19",
         "9.778676",
         "14.314234"
        ],
        [
         "20",
         "9.741412",
         "14.281231"
        ],
        [
         "21",
         "9.713585",
         "14.262694"
        ],
        [
         "22",
         "9.696742",
         "14.260464"
        ],
        [
         "23",
         "9.691568",
         "14.270648"
        ],
        [
         "24",
         "9.695932",
         "14.283099"
        ],
        [
         "25",
         "9.704063",
         "14.291545"
        ],
        [
         "26",
         "9.71135",
         "14.295719"
        ],
        [
         "27",
         "9.716995",
         "14.296747"
        ],
        [
         "28",
         "9.721504",
         "14.295994"
        ],
        [
         "29",
         "9.724949",
         "14.295071"
        ],
        [
         "30",
         "9.727537",
         "14.295244"
        ],
        [
         "31",
         "9.729758",
         "14.297868"
        ],
        [
         "32",
         "9.732728",
         "14.303869"
        ],
        [
         "33",
         "9.737829",
         "14.313209"
        ],
        [
         "34",
         "9.745638",
         "14.324913"
        ],
        [
         "35",
         "9.755708",
         "14.337545"
        ],
        [
         "36",
         "9.767043",
         "14.3496065"
        ],
        [
         "37",
         "9.778522",
         "14.360135"
        ],
        [
         "38",
         "9.789294",
         "14.368952"
        ],
        [
         "39",
         "9.798993",
         "14.376338"
        ],
        [
         "40",
         "9.807526",
         "14.38264"
        ],
        [
         "41",
         "9.814814",
         "14.388127"
        ],
        [
         "42",
         "9.820795",
         "14.392934"
        ],
        [
         "43",
         "9.825462",
         "14.396998"
        ],
        [
         "44",
         "9.828837",
         "14.400198"
        ],
        [
         "45",
         "9.831081",
         "14.4029045"
        ],
        [
         "46",
         "9.832996",
         "14.406943"
        ],
        [
         "47",
         "9.836549",
         "14.415062"
        ],
        [
         "48",
         "9.843784",
         "14.426478"
        ],
        [
         "49",
         "9.85306",
         "14.432792"
        ]
       ],
       "shape": {
        "columns": 2,
        "rows": 841537
       }
      },
      "text/html": [
       "<div>\n",
       "<style scoped>\n",
       "    .dataframe tbody tr th:only-of-type {\n",
       "        vertical-align: middle;\n",
       "    }\n",
       "\n",
       "    .dataframe tbody tr th {\n",
       "        vertical-align: top;\n",
       "    }\n",
       "\n",
       "    .dataframe thead th {\n",
       "        text-align: right;\n",
       "    }\n",
       "</style>\n",
       "<table border=\"1\" class=\"dataframe\">\n",
       "  <thead>\n",
       "    <tr style=\"text-align: right;\">\n",
       "      <th></th>\n",
       "      <th>upstream_stage</th>\n",
       "      <th>downstream_stage</th>\n",
       "    </tr>\n",
       "  </thead>\n",
       "  <tbody>\n",
       "    <tr>\n",
       "      <th>0</th>\n",
       "      <td>10.432000</td>\n",
       "      <td>15.008000</td>\n",
       "    </tr>\n",
       "    <tr>\n",
       "      <th>1</th>\n",
       "      <td>10.432203</td>\n",
       "      <td>15.007815</td>\n",
       "    </tr>\n",
       "    <tr>\n",
       "      <th>2</th>\n",
       "      <td>10.435493</td>\n",
       "      <td>15.008294</td>\n",
       "    </tr>\n",
       "    <tr>\n",
       "      <th>3</th>\n",
       "      <td>10.449473</td>\n",
       "      <td>15.012300</td>\n",
       "    </tr>\n",
       "    <tr>\n",
       "      <th>4</th>\n",
       "      <td>10.476360</td>\n",
       "      <td>15.022776</td>\n",
       "    </tr>\n",
       "    <tr>\n",
       "      <th>...</th>\n",
       "      <td>...</td>\n",
       "      <td>...</td>\n",
       "    </tr>\n",
       "    <tr>\n",
       "      <th>841532</th>\n",
       "      <td>10.235268</td>\n",
       "      <td>14.767039</td>\n",
       "    </tr>\n",
       "    <tr>\n",
       "      <th>841533</th>\n",
       "      <td>10.187270</td>\n",
       "      <td>14.715638</td>\n",
       "    </tr>\n",
       "    <tr>\n",
       "      <th>841534</th>\n",
       "      <td>10.136885</td>\n",
       "      <td>14.660568</td>\n",
       "    </tr>\n",
       "    <tr>\n",
       "      <th>841535</th>\n",
       "      <td>10.083745</td>\n",
       "      <td>14.604394</td>\n",
       "    </tr>\n",
       "    <tr>\n",
       "      <th>841536</th>\n",
       "      <td>10.029849</td>\n",
       "      <td>14.551425</td>\n",
       "    </tr>\n",
       "  </tbody>\n",
       "</table>\n",
       "<p>841537 rows × 2 columns</p>\n",
       "</div>"
      ],
      "text/plain": [
       "        upstream_stage  downstream_stage\n",
       "0            10.432000         15.008000\n",
       "1            10.432203         15.007815\n",
       "2            10.435493         15.008294\n",
       "3            10.449473         15.012300\n",
       "4            10.476360         15.022776\n",
       "...                ...               ...\n",
       "841532       10.235268         14.767039\n",
       "841533       10.187270         14.715638\n",
       "841534       10.136885         14.660568\n",
       "841535       10.083745         14.604394\n",
       "841536       10.029849         14.551425\n",
       "\n",
       "[841537 rows x 2 columns]"
      ]
     },
     "execution_count": 56,
     "metadata": {},
     "output_type": "execute_result"
    }
   ],
   "source": [
    "df_old_upstream = pd.DataFrame(old_upstream, columns=[\"upstream_stage\"])\n",
    "df_old_downstream = pd.DataFrame(old_downstream, columns=[\"downstream_stage\"])\n",
    "\n",
    "df = pd.concat([df_old_upstream, df_old_downstream], axis = 1)\n",
    "df\n"
   ]
  },
  {
   "cell_type": "code",
   "execution_count": 57,
   "metadata": {},
   "outputs": [
    {
     "data": {
      "application/vnd.microsoft.datawrangler.viewer.v0+json": {
       "columns": [
        {
         "name": "index",
         "rawType": "int64",
         "type": "integer"
        },
        {
         "name": "upstream_stage",
         "rawType": "float32",
         "type": "float"
        },
        {
         "name": "downstream_stage",
         "rawType": "float32",
         "type": "float"
        },
        {
         "name": "Datetime",
         "rawType": "datetime64[ns]",
         "type": "datetime"
        },
        {
         "name": "channel_id",
         "rawType": "int64",
         "type": "integer"
        },
        {
         "name": "channel_name",
         "rawType": "object",
         "type": "string"
        }
       ],
       "conversionMethod": "pd.DataFrame",
       "ref": "8e76dcf9-4d2c-487f-9170-33a3fc13de4a",
       "rows": [
        [
         "0",
         "10.432",
         "15.008",
         "2016-01-01 00:00:00",
         "71",
         "OLD"
        ],
        [
         "1",
         "10.432203",
         "15.007815",
         "2016-01-01 00:05:00",
         "71",
         "OLD"
        ],
        [
         "2",
         "10.4354925",
         "15.008294",
         "2016-01-01 00:10:00",
         "71",
         "OLD"
        ],
        [
         "3",
         "10.449473",
         "15.0123005",
         "2016-01-01 00:15:00",
         "71",
         "OLD"
        ],
        [
         "4",
         "10.47636",
         "15.022776",
         "2016-01-01 00:20:00",
         "71",
         "OLD"
        ],
        [
         "5",
         "10.497969",
         "15.029553",
         "2016-01-01 00:25:00",
         "71",
         "OLD"
        ],
        [
         "6",
         "10.48468",
         "15.002268",
         "2016-01-01 00:30:00",
         "71",
         "OLD"
        ],
        [
         "7",
         "10.422828",
         "14.916033",
         "2016-01-01 00:35:00",
         "71",
         "OLD"
        ],
        [
         "8",
         "10.321409",
         "14.785182",
         "2016-01-01 00:40:00",
         "71",
         "OLD"
        ],
        [
         "9",
         "10.198182",
         "14.653248",
         "2016-01-01 00:45:00",
         "71",
         "OLD"
        ],
        [
         "10",
         "10.077577",
         "14.556692",
         "2016-01-01 00:50:00",
         "71",
         "OLD"
        ],
        [
         "11",
         "9.988426",
         "14.505478",
         "2016-01-01 00:55:00",
         "71",
         "OLD"
        ],
        [
         "12",
         "9.940268",
         "14.481824",
         "2016-01-01 01:00:00",
         "71",
         "OLD"
        ],
        [
         "13",
         "9.913244",
         "14.46413",
         "2016-01-01 01:05:00",
         "71",
         "OLD"
        ],
        [
         "14",
         "9.887868",
         "14.454948",
         "2016-01-01 01:10:00",
         "71",
         "OLD"
        ],
        [
         "15",
         "9.868348",
         "14.454171",
         "2016-01-01 01:15:00",
         "71",
         "OLD"
        ],
        [
         "16",
         "9.859896",
         "14.441814",
         "2016-01-01 01:20:00",
         "71",
         "OLD"
        ],
        [
         "17",
         "9.847738",
         "14.406506",
         "2016-01-01 01:25:00",
         "71",
         "OLD"
        ],
        [
         "18",
         "9.818559",
         "14.358257",
         "2016-01-01 01:30:00",
         "71",
         "OLD"
        ],
        [
         "19",
         "9.778676",
         "14.314234",
         "2016-01-01 01:35:00",
         "71",
         "OLD"
        ],
        [
         "20",
         "9.741412",
         "14.281231",
         "2016-01-01 01:40:00",
         "71",
         "OLD"
        ],
        [
         "21",
         "9.713585",
         "14.262694",
         "2016-01-01 01:45:00",
         "71",
         "OLD"
        ],
        [
         "22",
         "9.696742",
         "14.260464",
         "2016-01-01 01:50:00",
         "71",
         "OLD"
        ],
        [
         "23",
         "9.691568",
         "14.270648",
         "2016-01-01 01:55:00",
         "71",
         "OLD"
        ],
        [
         "24",
         "9.695932",
         "14.283099",
         "2016-01-01 02:00:00",
         "71",
         "OLD"
        ],
        [
         "25",
         "9.704063",
         "14.291545",
         "2016-01-01 02:05:00",
         "71",
         "OLD"
        ],
        [
         "26",
         "9.71135",
         "14.295719",
         "2016-01-01 02:10:00",
         "71",
         "OLD"
        ],
        [
         "27",
         "9.716995",
         "14.296747",
         "2016-01-01 02:15:00",
         "71",
         "OLD"
        ],
        [
         "28",
         "9.721504",
         "14.295994",
         "2016-01-01 02:20:00",
         "71",
         "OLD"
        ],
        [
         "29",
         "9.724949",
         "14.295071",
         "2016-01-01 02:25:00",
         "71",
         "OLD"
        ],
        [
         "30",
         "9.727537",
         "14.295244",
         "2016-01-01 02:30:00",
         "71",
         "OLD"
        ],
        [
         "31",
         "9.729758",
         "14.297868",
         "2016-01-01 02:35:00",
         "71",
         "OLD"
        ],
        [
         "32",
         "9.732728",
         "14.303869",
         "2016-01-01 02:40:00",
         "71",
         "OLD"
        ],
        [
         "33",
         "9.737829",
         "14.313209",
         "2016-01-01 02:45:00",
         "71",
         "OLD"
        ],
        [
         "34",
         "9.745638",
         "14.324913",
         "2016-01-01 02:50:00",
         "71",
         "OLD"
        ],
        [
         "35",
         "9.755708",
         "14.337545",
         "2016-01-01 02:55:00",
         "71",
         "OLD"
        ],
        [
         "36",
         "9.767043",
         "14.3496065",
         "2016-01-01 03:00:00",
         "71",
         "OLD"
        ],
        [
         "37",
         "9.778522",
         "14.360135",
         "2016-01-01 03:05:00",
         "71",
         "OLD"
        ],
        [
         "38",
         "9.789294",
         "14.368952",
         "2016-01-01 03:10:00",
         "71",
         "OLD"
        ],
        [
         "39",
         "9.798993",
         "14.376338",
         "2016-01-01 03:15:00",
         "71",
         "OLD"
        ],
        [
         "40",
         "9.807526",
         "14.38264",
         "2016-01-01 03:20:00",
         "71",
         "OLD"
        ],
        [
         "41",
         "9.814814",
         "14.388127",
         "2016-01-01 03:25:00",
         "71",
         "OLD"
        ],
        [
         "42",
         "9.820795",
         "14.392934",
         "2016-01-01 03:30:00",
         "71",
         "OLD"
        ],
        [
         "43",
         "9.825462",
         "14.396998",
         "2016-01-01 03:35:00",
         "71",
         "OLD"
        ],
        [
         "44",
         "9.828837",
         "14.400198",
         "2016-01-01 03:40:00",
         "71",
         "OLD"
        ],
        [
         "45",
         "9.831081",
         "14.4029045",
         "2016-01-01 03:45:00",
         "71",
         "OLD"
        ],
        [
         "46",
         "9.832996",
         "14.406943",
         "2016-01-01 03:50:00",
         "71",
         "OLD"
        ],
        [
         "47",
         "9.836549",
         "14.415062",
         "2016-01-01 03:55:00",
         "71",
         "OLD"
        ],
        [
         "48",
         "9.843784",
         "14.426478",
         "2016-01-01 04:00:00",
         "71",
         "OLD"
        ],
        [
         "49",
         "9.85306",
         "14.432792",
         "2016-01-01 04:05:00",
         "71",
         "OLD"
        ]
       ],
       "shape": {
        "columns": 5,
        "rows": 841537
       }
      },
      "text/html": [
       "<div>\n",
       "<style scoped>\n",
       "    .dataframe tbody tr th:only-of-type {\n",
       "        vertical-align: middle;\n",
       "    }\n",
       "\n",
       "    .dataframe tbody tr th {\n",
       "        vertical-align: top;\n",
       "    }\n",
       "\n",
       "    .dataframe thead th {\n",
       "        text-align: right;\n",
       "    }\n",
       "</style>\n",
       "<table border=\"1\" class=\"dataframe\">\n",
       "  <thead>\n",
       "    <tr style=\"text-align: right;\">\n",
       "      <th></th>\n",
       "      <th>upstream_stage</th>\n",
       "      <th>downstream_stage</th>\n",
       "      <th>Datetime</th>\n",
       "      <th>channel_id</th>\n",
       "      <th>channel_name</th>\n",
       "    </tr>\n",
       "  </thead>\n",
       "  <tbody>\n",
       "    <tr>\n",
       "      <th>0</th>\n",
       "      <td>10.432000</td>\n",
       "      <td>15.008000</td>\n",
       "      <td>2016-01-01 00:00:00</td>\n",
       "      <td>71</td>\n",
       "      <td>OLD</td>\n",
       "    </tr>\n",
       "    <tr>\n",
       "      <th>1</th>\n",
       "      <td>10.432203</td>\n",
       "      <td>15.007815</td>\n",
       "      <td>2016-01-01 00:05:00</td>\n",
       "      <td>71</td>\n",
       "      <td>OLD</td>\n",
       "    </tr>\n",
       "    <tr>\n",
       "      <th>2</th>\n",
       "      <td>10.435493</td>\n",
       "      <td>15.008294</td>\n",
       "      <td>2016-01-01 00:10:00</td>\n",
       "      <td>71</td>\n",
       "      <td>OLD</td>\n",
       "    </tr>\n",
       "    <tr>\n",
       "      <th>3</th>\n",
       "      <td>10.449473</td>\n",
       "      <td>15.012300</td>\n",
       "      <td>2016-01-01 00:15:00</td>\n",
       "      <td>71</td>\n",
       "      <td>OLD</td>\n",
       "    </tr>\n",
       "    <tr>\n",
       "      <th>4</th>\n",
       "      <td>10.476360</td>\n",
       "      <td>15.022776</td>\n",
       "      <td>2016-01-01 00:20:00</td>\n",
       "      <td>71</td>\n",
       "      <td>OLD</td>\n",
       "    </tr>\n",
       "    <tr>\n",
       "      <th>...</th>\n",
       "      <td>...</td>\n",
       "      <td>...</td>\n",
       "      <td>...</td>\n",
       "      <td>...</td>\n",
       "      <td>...</td>\n",
       "    </tr>\n",
       "    <tr>\n",
       "      <th>841532</th>\n",
       "      <td>10.235268</td>\n",
       "      <td>14.767039</td>\n",
       "      <td>2023-12-31 23:40:00</td>\n",
       "      <td>71</td>\n",
       "      <td>OLD</td>\n",
       "    </tr>\n",
       "    <tr>\n",
       "      <th>841533</th>\n",
       "      <td>10.187270</td>\n",
       "      <td>14.715638</td>\n",
       "      <td>2023-12-31 23:45:00</td>\n",
       "      <td>71</td>\n",
       "      <td>OLD</td>\n",
       "    </tr>\n",
       "    <tr>\n",
       "      <th>841534</th>\n",
       "      <td>10.136885</td>\n",
       "      <td>14.660568</td>\n",
       "      <td>2023-12-31 23:50:00</td>\n",
       "      <td>71</td>\n",
       "      <td>OLD</td>\n",
       "    </tr>\n",
       "    <tr>\n",
       "      <th>841535</th>\n",
       "      <td>10.083745</td>\n",
       "      <td>14.604394</td>\n",
       "      <td>2023-12-31 23:55:00</td>\n",
       "      <td>71</td>\n",
       "      <td>OLD</td>\n",
       "    </tr>\n",
       "    <tr>\n",
       "      <th>841536</th>\n",
       "      <td>10.029849</td>\n",
       "      <td>14.551425</td>\n",
       "      <td>2024-01-01 00:00:00</td>\n",
       "      <td>71</td>\n",
       "      <td>OLD</td>\n",
       "    </tr>\n",
       "  </tbody>\n",
       "</table>\n",
       "<p>841537 rows × 5 columns</p>\n",
       "</div>"
      ],
      "text/plain": [
       "        upstream_stage  downstream_stage            Datetime  channel_id  \\\n",
       "0            10.432000         15.008000 2016-01-01 00:00:00          71   \n",
       "1            10.432203         15.007815 2016-01-01 00:05:00          71   \n",
       "2            10.435493         15.008294 2016-01-01 00:10:00          71   \n",
       "3            10.449473         15.012300 2016-01-01 00:15:00          71   \n",
       "4            10.476360         15.022776 2016-01-01 00:20:00          71   \n",
       "...                ...               ...                 ...         ...   \n",
       "841532       10.235268         14.767039 2023-12-31 23:40:00          71   \n",
       "841533       10.187270         14.715638 2023-12-31 23:45:00          71   \n",
       "841534       10.136885         14.660568 2023-12-31 23:50:00          71   \n",
       "841535       10.083745         14.604394 2023-12-31 23:55:00          71   \n",
       "841536       10.029849         14.551425 2024-01-01 00:00:00          71   \n",
       "\n",
       "       channel_name  \n",
       "0               OLD  \n",
       "1               OLD  \n",
       "2               OLD  \n",
       "3               OLD  \n",
       "4               OLD  \n",
       "...             ...  \n",
       "841532          OLD  \n",
       "841533          OLD  \n",
       "841534          OLD  \n",
       "841535          OLD  \n",
       "841536          OLD  \n",
       "\n",
       "[841537 rows x 5 columns]"
      ]
     },
     "execution_count": 57,
     "metadata": {},
     "output_type": "execute_result"
    }
   ],
   "source": [
    "old = pd.concat([df, df_time_series], axis=1)\n",
    "old['channel_id'] = 71\n",
    "old['channel_name'] = 'OLD'\n",
    "\n",
    "old"
   ]
  },
  {
   "cell_type": "code",
   "execution_count": 60,
   "metadata": {},
   "outputs": [],
   "source": [
    "old.to_csv('/Users/maddeerubenson/Documents/git/SDG/sdg-dashboard/data-raw/data-exports/exports/old_stage_export.csv')"
   ]
  },
  {
   "cell_type": "code",
   "execution_count": null,
   "metadata": {},
   "outputs": [],
   "source": [
    "# MHO id = 128"
   ]
  }
 ],
 "metadata": {
  "kernelspec": {
   "display_name": "sdg",
   "language": "python",
   "name": "python3"
  },
  "language_info": {
   "codemirror_mode": {
    "name": "ipython",
    "version": 3
   },
   "file_extension": ".py",
   "mimetype": "text/x-python",
   "name": "python",
   "nbconvert_exporter": "python",
   "pygments_lexer": "ipython3",
   "version": "3.13.2"
  }
 },
 "nbformat": 4,
 "nbformat_minor": 2
}
