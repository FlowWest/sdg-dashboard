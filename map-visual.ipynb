{
 "cells": [
  {
   "cell_type": "code",
   "execution_count": 9,
   "metadata": {},
   "outputs": [],
   "source": [
    "import geopandas as gpd\n",
    "import folium\n",
    "from IPython.display import display"
   ]
  },
  {
   "cell_type": "code",
   "execution_count": 21,
   "metadata": {},
   "outputs": [],
   "source": [
    "shapefile_paths = [\n",
    "    \"data-raw/MSS_nodes/dsm2_nodes_newcs_extranodes.shp\",\n",
    "    \"data-raw/fc2024.01_chan/FC2024.01_channels_centerlines.shp\"\n",
    "]"
   ]
  },
  {
   "cell_type": "code",
   "execution_count": 27,
   "metadata": {},
   "outputs": [
    {
     "data": {
      "text/plain": [
       "<bound method NDFrame.head of                X          Y   id                        geometry\n",
       "0    586524.5000  4214278.5  329      POINT (586524.5 4214278.5)\n",
       "1    595501.8125  4215164.0  328      POINT (595501.812 4215164)\n",
       "2    587823.0625  4224132.5  327    POINT (587823.062 4224132.5)\n",
       "3    611764.3125  4234500.0  326      POINT (611764.312 4234500)\n",
       "4    609429.0625  4235459.0  325      POINT (609429.062 4235459)\n",
       "..           ...        ...  ...                             ...\n",
       "473          NaN        NaN  811   POINT (640955.51 4185200.504)\n",
       "474          NaN        NaN  812  POINT (640236.914 4185018.152)\n",
       "475          NaN        NaN  814  POINT (638627.967 4184416.817)\n",
       "476          NaN        NaN  813  POINT (639130.486 4183087.804)\n",
       "477          NaN        NaN  815  POINT (631626.258 4183226.381)\n",
       "\n",
       "[478 rows x 4 columns]>"
      ]
     },
     "execution_count": 27,
     "metadata": {},
     "output_type": "execute_result"
    }
   ],
   "source": [
    "nodes = gpd.read_file(shapefile_paths[0])\n",
    "nodes.head"
   ]
  },
  {
   "cell_type": "code",
   "execution_count": 25,
   "metadata": {},
   "outputs": [
    {
     "data": {
      "text/plain": [
       "<bound method NDFrame.head of       id                                           geometry\n",
       "0      1  LINESTRING (652291.736 4172448.043, 652209.821...\n",
       "1      2  LINESTRING (652401.235 4174797.442, 652581.296...\n",
       "2      3  LINESTRING (651808.247 4176015.422, 651766.413...\n",
       "3      4  LINESTRING (650024.633 4176799.368, 649933.498...\n",
       "4      5  LINESTRING (648990.218 4180561.514, 648949.832...\n",
       "..   ...                                                ...\n",
       "546  819  LINESTRING (640236.667 4185024.396, 639714.773...\n",
       "547  820  LINESTRING (639153.103 4183088.611, 639153.56 ...\n",
       "548  821  LINESTRING (638934.638 4184888.455, 638822.624...\n",
       "549  822  LINESTRING (638615.055 4184423.33, 638562.21 4...\n",
       "550  823  LINESTRING (631626.258 4183226.381, 631559.926...\n",
       "\n",
       "[551 rows x 2 columns]>"
      ]
     },
     "execution_count": 25,
     "metadata": {},
     "output_type": "execute_result"
    }
   ],
   "source": [
    "channels = gpd.read_file(shapefile_paths[1])\n",
    "channels.head"
   ]
  },
  {
   "cell_type": "code",
   "execution_count": 29,
   "metadata": {},
   "outputs": [
    {
     "data": {
      "text/plain": [
       "<bound method NDFrame.head of                X           Y   id                       geometry\n",
       "134  632155.4375  4186851.25  176  POINT (632155.438 4186851.25)\n",
       "207  634764.4375  4193850.50  112   POINT (634764.438 4193850.5)\n",
       "287  628267.0000  4185764.00   69         POINT (628267 4185764)>"
      ]
     },
     "execution_count": 29,
     "metadata": {},
     "output_type": "execute_result"
    }
   ],
   "source": [
    "# nodes to highlight, based on figure \n",
    "\n",
    "nodes_to_highlight = [112, 176, 69]\n",
    "nodes_filter = nodes[nodes['id'].isin(nodes_to_highlight)]\n",
    "nodes_filter.head"
   ]
  },
  {
   "cell_type": "code",
   "execution_count": 36,
   "metadata": {},
   "outputs": [],
   "source": [
    "\n",
    "\n",
    "import geopandas as gpd\n",
    "import folium\n",
    "from IPython.display import display\n",
    "\n",
    "def create_multi_layer_map(shapefile_paths, filtered_gdf=None):\n",
    "    \"\"\"\n",
    "    Creates an interactive map with multiple shapefile layers and optional filtered points in red.\n",
    "    \n",
    "    Parameters:\n",
    "    - shapefile_paths: List of file paths to the shapefiles.\n",
    "    - filtered_gdf: A GeoDataFrame with filtered points to display in red (optional).\n",
    "    \"\"\"\n",
    "    # Initialize a list to store valid GeoDataFrames and their centroids\n",
    "    gdfs = []\n",
    "    all_centroids = []\n",
    "    \n",
    "    for path in shapefile_paths:\n",
    "        # Read shapefile\n",
    "        gdf = gpd.read_file(path)\n",
    "        \n",
    "        # Ensure the CRS is EPSG:4326\n",
    "        if gdf.crs != \"EPSG:4326\":\n",
    "            gdf = gdf.to_crs(\"EPSG:4326\")\n",
    "\n",
    "        if filtered_gdf.crs != \"EPSG:4326\":\n",
    "            filtered_gdf = filtered_gdf.to_crs(\"EPSG:4326\")\n",
    "        \n",
    "        # Check if there are valid geometries\n",
    "        if gdf.is_empty.any():\n",
    "            print(f\"Warning: Some geometries in {path} are empty and will be ignored.\")\n",
    "            gdf = gdf[~gdf.is_empty]  # Remove empty geometries\n",
    "        \n",
    "        # Compute the centroid in EPSG:4326 (no need for reprojection)\n",
    "        centroid = gdf.geometry.centroid\n",
    "        center = [centroid.y.mean(), centroid.x.mean()]\n",
    "        \n",
    "        # Append to the list\n",
    "        gdfs.append((gdf, center))\n",
    "        all_centroids.append(center)\n",
    "    \n",
    "    # Calculate map center based on all layers\n",
    "    avg_lat = sum([c[0] for c in all_centroids]) / len(all_centroids)\n",
    "    avg_lon = sum([c[1] for c in all_centroids]) / len(all_centroids)\n",
    "    \n",
    "    # Create a Folium map centered on the average centroid\n",
    "    m = folium.Map(location=[avg_lat, avg_lon], zoom_start=10)\n",
    "    \n",
    "    # Add each shapefile as a separate layer to the map\n",
    "    for idx, (gdf, _) in enumerate(gdfs):\n",
    "        folium.GeoJson(\n",
    "            gdf, \n",
    "            name=f\"Layer {idx + 1}: {shapefile_paths[idx].split('/')[-1]}\"\n",
    "        ).add_to(m)\n",
    "    \n",
    "    # If filtered_gdf is provided, add the filtered points in red\n",
    "    if filtered_gdf is not None:\n",
    "        for _, row in filtered_gdf.iterrows():\n",
    "            folium.Marker(\n",
    "                location=[row['geometry'].y, row['geometry'].x], \n",
    "                popup=f\"ID: {row['id']}\", \n",
    "                icon=folium.Icon(color='red')\n",
    "            ).add_to(m)\n",
    "    \n",
    "    # Add layer control\n",
    "    folium.LayerControl().add_to(m)\n",
    "    \n",
    "    # Display the map in the notebook\n",
    "    display(m)\n",
    "\n",
    "    \n"
   ]
  },
  {
   "cell_type": "code",
   "execution_count": 37,
   "metadata": {},
   "outputs": [
    {
     "name": "stderr",
     "output_type": "stream",
     "text": [
      "/var/folders/45/p22_x33n4s1dbmnzjdjzfr_80000gn/T/ipykernel_95984/642960532.py:34: UserWarning: Geometry is in a geographic CRS. Results from 'centroid' are likely incorrect. Use 'GeoSeries.to_crs()' to re-project geometries to a projected CRS before this operation.\n",
      "\n",
      "  centroid = gdf.geometry.centroid\n",
      "/var/folders/45/p22_x33n4s1dbmnzjdjzfr_80000gn/T/ipykernel_95984/642960532.py:34: UserWarning: Geometry is in a geographic CRS. Results from 'centroid' are likely incorrect. Use 'GeoSeries.to_crs()' to re-project geometries to a projected CRS before this operation.\n",
      "\n",
      "  centroid = gdf.geometry.centroid\n"
     ]
    },
    {
     "ename": "UnboundLocalError",
     "evalue": "cannot access local variable 'row' where it is not associated with a value",
     "output_type": "error",
     "traceback": [
      "\u001b[0;31m---------------------------------------------------------------------------\u001b[0m",
      "\u001b[0;31mUnboundLocalError\u001b[0m                         Traceback (most recent call last)",
      "Cell \u001b[0;32mIn[37], line 1\u001b[0m\n\u001b[0;32m----> 1\u001b[0m \u001b[43mcreate_multi_layer_map\u001b[49m\u001b[43m(\u001b[49m\u001b[43mshapefile_paths\u001b[49m\u001b[43m,\u001b[49m\u001b[43m \u001b[49m\u001b[43mnodes_filter\u001b[49m\u001b[43m)\u001b[49m\n",
      "Cell \u001b[0;32mIn[36], line 53\u001b[0m, in \u001b[0;36mcreate_multi_layer_map\u001b[0;34m(shapefile_paths, filtered_gdf)\u001b[0m\n\u001b[1;32m     48\u001b[0m \u001b[38;5;66;03m# Add each shapefile as a separate layer to the map\u001b[39;00m\n\u001b[1;32m     49\u001b[0m \u001b[38;5;28;01mfor\u001b[39;00m idx, (gdf, _) \u001b[38;5;129;01min\u001b[39;00m \u001b[38;5;28menumerate\u001b[39m(gdfs):\n\u001b[1;32m     50\u001b[0m     folium\u001b[38;5;241m.\u001b[39mGeoJson(\n\u001b[1;32m     51\u001b[0m         gdf, \n\u001b[1;32m     52\u001b[0m         name\u001b[38;5;241m=\u001b[39m\u001b[38;5;124mf\u001b[39m\u001b[38;5;124m\"\u001b[39m\u001b[38;5;124mLayer \u001b[39m\u001b[38;5;132;01m{\u001b[39;00midx\u001b[38;5;250m \u001b[39m\u001b[38;5;241m+\u001b[39m\u001b[38;5;250m \u001b[39m\u001b[38;5;241m1\u001b[39m\u001b[38;5;132;01m}\u001b[39;00m\u001b[38;5;124m: \u001b[39m\u001b[38;5;132;01m{\u001b[39;00mshapefile_paths[idx]\u001b[38;5;241m.\u001b[39msplit(\u001b[38;5;124m'\u001b[39m\u001b[38;5;124m/\u001b[39m\u001b[38;5;124m'\u001b[39m)[\u001b[38;5;241m-\u001b[39m\u001b[38;5;241m1\u001b[39m]\u001b[38;5;132;01m}\u001b[39;00m\u001b[38;5;124m\"\u001b[39m,\n\u001b[0;32m---> 53\u001b[0m         popup\u001b[38;5;241m=\u001b[39m\u001b[38;5;124mf\u001b[39m\u001b[38;5;124m\"\u001b[39m\u001b[38;5;124mID: \u001b[39m\u001b[38;5;132;01m{\u001b[39;00m\u001b[43mrow\u001b[49m[\u001b[38;5;124m'\u001b[39m\u001b[38;5;124mid\u001b[39m\u001b[38;5;124m'\u001b[39m]\u001b[38;5;132;01m}\u001b[39;00m\u001b[38;5;124m\"\u001b[39m\n\u001b[1;32m     54\u001b[0m     )\u001b[38;5;241m.\u001b[39madd_to(m)\n\u001b[1;32m     56\u001b[0m \u001b[38;5;66;03m# If filtered_gdf is provided, add the filtered points in red\u001b[39;00m\n\u001b[1;32m     57\u001b[0m \u001b[38;5;28;01mif\u001b[39;00m filtered_gdf \u001b[38;5;129;01mis\u001b[39;00m \u001b[38;5;129;01mnot\u001b[39;00m \u001b[38;5;28;01mNone\u001b[39;00m:\n",
      "\u001b[0;31mUnboundLocalError\u001b[0m: cannot access local variable 'row' where it is not associated with a value"
     ]
    }
   ],
   "source": [
    "\n",
    "create_multi_layer_map(shapefile_paths, nodes_filter)"
   ]
  }
 ],
 "metadata": {
  "kernelspec": {
   "display_name": ".venv",
   "language": "python",
   "name": "python3"
  },
  "language_info": {
   "codemirror_mode": {
    "name": "ipython",
    "version": 3
   },
   "file_extension": ".py",
   "mimetype": "text/x-python",
   "name": "python",
   "nbconvert_exporter": "python",
   "pygments_lexer": "ipython3",
   "version": "3.11.4"
  }
 },
 "nbformat": 4,
 "nbformat_minor": 2
}
